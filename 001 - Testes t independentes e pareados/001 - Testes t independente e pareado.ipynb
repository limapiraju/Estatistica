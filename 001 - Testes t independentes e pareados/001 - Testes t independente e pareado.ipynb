{
 "cells": [
  {
   "cell_type": "markdown",
   "metadata": {
    "id": "OUA-v8PCZ5K5"
   },
   "source": [
    "**O objetivo deste notebook é demonstrar como calcular os testes *t* de Student e de Welch usando algumas bibliotecas do Python. Medidas de tamanho de efeito também são reportadas.**\n",
    "\n",
    "**Autor: Marcos Lima**"
   ]
  },
  {
   "cell_type": "code",
   "execution_count": 1,
   "metadata": {
    "colab": {
     "base_uri": "https://localhost:8080/"
    },
    "executionInfo": {
     "elapsed": 1120,
     "status": "ok",
     "timestamp": 1643077329826,
     "user": {
      "displayName": "Marcos Lima",
      "photoUrl": "https://lh3.googleusercontent.com/a-/AOh14GjPkqY9h8ofRUdSfF7NlRlX2qBndhrvEgGih7OPbg=s64",
      "userId": "12059436749293830667"
     },
     "user_tz": 180
    },
    "id": "kK6h4XDAPGz_",
    "outputId": "ea063805-02aa-443a-8efb-819a447ac2f0"
   },
   "outputs": [],
   "source": [
    "# https://www.statsmodels.org/dev/generated/statsmodels.stats.weightstats.ttest_ind.html#statsmodels.stats.weightstats.ttest_ind\n",
    "\n",
    "import numpy as np\n",
    "import pandas as pd\n",
    "import matplotlib.pyplot as plt\n",
    "from statsmodels.stats.weightstats import ttest_ind"
   ]
  },
  {
   "cell_type": "markdown",
   "metadata": {
    "id": "5GjrQxn2MdRp"
   },
   "source": [
    "Antes de mais nada, criaremos uma função que calcula diferentes medidas de tamanho de efeito. As fórmulas são baseadas em **Lakens, D. (2013). Calculating and reporting effect sizes to facilitate cumulative science: A practical primer for t-tests and ANOVAs. *Frontiers in Psychology*, *4*, eArticle 863. https://doi.org/10.3389/fpsyg.2013.00863**"
   ]
  },
  {
   "cell_type": "code",
   "execution_count": 2,
   "metadata": {
    "executionInfo": {
     "elapsed": 91,
     "status": "ok",
     "timestamp": 1643077329830,
     "user": {
      "displayName": "Marcos Lima",
      "photoUrl": "https://lh3.googleusercontent.com/a-/AOh14GjPkqY9h8ofRUdSfF7NlRlX2qBndhrvEgGih7OPbg=s64",
      "userId": "12059436749293830667"
     },
     "user_tz": 180
    },
    "id": "aDVbAqz1NIBC"
   },
   "outputs": [],
   "source": [
    "# Criando uma função que retorna tamanhos de efeito (d de Cohen, g de Hedges, delta de Glass, etc.)\n",
    "def tamanho_de_efeito(x, y, independent = True):\n",
    "  '''\n",
    "  Recebe dois vetores de escores e calcula tamanhos de efeito para delineamentos independentes\n",
    "  ou de medidas repetidas.\n",
    "  '''\n",
    "\n",
    "  # teste t independente\n",
    "  if independent:\n",
    "    # Equação 1 de Lakens (2013), d de Cohen para delineamento independente\n",
    "    numerador = np.mean(x) - np.mean(y)\n",
    "    denominador = ((np.std(x, ddof = 1) ** 2 * (x.size - 1) + np.std(y, ddof = 1) ** 2 * (y.size - 1)) / (x.size + y.size - 2)) ** 0.5\n",
    "    d = numerador / denominador\n",
    "    \n",
    "    # Equação 4 de Lakens (2013), g de Hedges para delineamento independente\n",
    "    J = 1 - (3 / (4 * (x.size + y.size) - 9))\n",
    "    g = d * J\n",
    "\n",
    "    # delta de Glass\n",
    "    delta = (np.mean(x) - np.mean(y)) / np.std(x, ddof = 1)\n",
    "    \n",
    "    # Retorna as variáveis criadas\n",
    "    return d, g, delta\n",
    "\n",
    "  # teste t pareado\n",
    "  else:\n",
    "    # Equação 9 de Lakens (2013), d de Cohen para medidas repetidas   \n",
    "    corr = np.corrcoef(x, y)[0][1]\n",
    "    numerador = np.mean(x - y)\n",
    "    denominador = (np.std(x, ddof = 1) ** 2 + np.std(y, ddof = 1) ** 2 - 2 * corr * np.std(x, ddof = 1) * np.std(y, ddof = 1)) ** 0.5 * (2 * (1 - corr)) ** 0.5\n",
    "    d_rm = numerador / denominador\n",
    "\n",
    "    # Equação 10 de Lakens (2013), d de Cohen para medidas repetidas com média dos DPs\n",
    "    numerador = np.mean(x - y)\n",
    "    denominador = (np.std(x, ddof = 1) + np.std(y, ddof = 1)) / 2\n",
    "    d_av = numerador / denominador\n",
    "\n",
    "    return d_rm, d_av"
   ]
  },
  {
   "cell_type": "markdown",
   "metadata": {
    "id": "yABhX6hFlfBx"
   },
   "source": [
    "## **Teste *t* de Student**"
   ]
  },
  {
   "cell_type": "code",
   "execution_count": 7,
   "metadata": {
    "colab": {
     "base_uri": "https://localhost:8080/"
    },
    "executionInfo": {
     "elapsed": 92,
     "status": "ok",
     "timestamp": 1643077329833,
     "user": {
      "displayName": "Marcos Lima",
      "photoUrl": "https://lh3.googleusercontent.com/a-/AOh14GjPkqY9h8ofRUdSfF7NlRlX2qBndhrvEgGih7OPbg=s64",
      "userId": "12059436749293830667"
     },
     "user_tz": 180
    },
    "id": "ImhHjhSYP1HB",
    "outputId": "e62e0d61-f11d-4cd2-e00c-0831e959ddd8"
   },
   "outputs": [
    {
     "name": "stdout",
     "output_type": "stream",
     "text": [
      "O grupo que assistiu Titanic avaliou o filme como significativamente mais agradável (M = 8.70,\n",
      "DP = 0.82) do que o grupo que avaliou o filme The Green Mile (M = 7.70,\n",
      "DP = 0.95), t(18) = 2.52, p = 0.02, delta = 1.21, d = 1.13, g = 1.08.\n"
     ]
    }
   ],
   "source": [
    "# Dados de Lakens (2013), adaptados por mim\n",
    "# A avaliação dos participantes aos filmes Titanic e The Green Mile diferem entre si?\n",
    "titanic = np.array([9, 7, 8, 9, 8, 9, 9, 10, 9, 9])\n",
    "the_green_mile = np.array([9, 6, 7, 8, 7, 9, 8, 8, 8, 7])\n",
    "\n",
    "# Calculando índices de tamanho de efeito\n",
    "d, g, delta = tamanho_de_efeito(titanic, the_green_mile, independent = True)\n",
    "\n",
    "# Rodando o teste t de Student\n",
    "t, p, gl = ttest_ind(titanic, the_green_mile, alternative = 'two-sided', usevar = 'pooled')\n",
    "\n",
    "# Imprimindo os resultados\n",
    "# ddof = 1 na função np.std() tem como objetivo usar N - 1 no denominador do DP\n",
    "print(f'''O grupo que assistiu Titanic avaliou o filme como significativamente mais agradável (M = {np.mean(titanic):.2f},\n",
    "DP = {np.std(titanic, ddof = 1):.2f}) do que o grupo que avaliou o filme The Green Mile (M = {np.mean(the_green_mile):.2f},\n",
    "DP = {np.std(the_green_mile, ddof = 1):.2f}), t({gl:.0f}) = {t:.2f}, p = {p:.2f}, delta = {delta:.2f}, d = {d:.2f}, g = {g:.2f}.''')\n"
   ]
  },
  {
   "cell_type": "markdown",
   "metadata": {
    "id": "1aZNptpMmeqi"
   },
   "source": [
    "## **Teste *t* de Welch**"
   ]
  },
  {
   "cell_type": "code",
   "execution_count": 8,
   "metadata": {
    "colab": {
     "base_uri": "https://localhost:8080/"
    },
    "executionInfo": {
     "elapsed": 56,
     "status": "ok",
     "timestamp": 1643077329836,
     "user": {
      "displayName": "Marcos Lima",
      "photoUrl": "https://lh3.googleusercontent.com/a-/AOh14GjPkqY9h8ofRUdSfF7NlRlX2qBndhrvEgGih7OPbg=s64",
      "userId": "12059436749293830667"
     },
     "user_tz": 180
    },
    "id": "7PAw3XaUQlE5",
    "outputId": "49a5ea96-a03f-4066-e007-5b8a34dc00de"
   },
   "outputs": [
    {
     "name": "stdout",
     "output_type": "stream",
     "text": [
      "O grupo que assistiu Titanic avaliou o filme como significativamente mais agradável (M = 8.70,\n",
      "DP = 0.82) do que o grupo que avaliou o filme The Green Mile (M = 7.70,\n",
      "DP = 0.95), t(17.65) = 2.52, p = 0.02, delta = 1.21, d = 1.13, g = 1.08.\n"
     ]
    }
   ],
   "source": [
    "# Dados de Lakens (2013), adaptado por mim\n",
    "# A avaliação dos participantes aos filmes Titanic e The Green Mile diferem entre si?\n",
    "\n",
    "# Rodando o teste t de Welch\n",
    "t, p, gl = ttest_ind(titanic, the_green_mile, alternative = 'two-sided', usevar = 'unequal')\n",
    "\n",
    "# Imprimindo os resultados\n",
    "# ddof = 1 na função np.std() tem como objetivo usar N - 1 no denominador do DP\n",
    "print(f'''O grupo que assistiu Titanic avaliou o filme como significativamente mais agradável (M = {np.mean(titanic):.2f},\n",
    "DP = {np.std(titanic, ddof = 1):.2f}) do que o grupo que avaliou o filme The Green Mile (M = {np.mean(the_green_mile):.2f},\n",
    "DP = {np.std(the_green_mile, ddof = 1):.2f}), t({gl:.2f}) = {t:.2f}, p = {p:.2f}, delta = {delta:.2f}, d = {d:.2f}, g = {g:.2f}.''')"
   ]
  },
  {
   "cell_type": "markdown",
   "metadata": {
    "id": "kF9uSvgWoXCw"
   },
   "source": [
    "## **Teste *t* pareado**"
   ]
  },
  {
   "cell_type": "code",
   "execution_count": 5,
   "metadata": {
    "colab": {
     "base_uri": "https://localhost:8080/"
    },
    "executionInfo": {
     "elapsed": 50,
     "status": "ok",
     "timestamp": 1643077329838,
     "user": {
      "displayName": "Marcos Lima",
      "photoUrl": "https://lh3.googleusercontent.com/a-/AOh14GjPkqY9h8ofRUdSfF7NlRlX2qBndhrvEgGih7OPbg=s64",
      "userId": "12059436749293830667"
     },
     "user_tz": 180
    },
    "id": "LnwnZjzxoZdI",
    "outputId": "da8616b0-9d7c-44f2-b7d8-40843aaabbb3"
   },
   "outputs": [
    {
     "name": "stdout",
     "output_type": "stream",
     "text": [
      "A avaliação dos participantes ao filme Titanic foi significativamente mais agradável (M = 8.70,\n",
      "DP = 0.82) do que a avaliação ao filme The Green Mile (M = 7.70,\n",
      "DP = 0.95), t(9) = 4.74, p = 0.001, d_rm = 2.02, d_av = 1.13.\n"
     ]
    }
   ],
   "source": [
    "# Aqui, assumimos que os dados dos vetores titanic e the_green_mile são oriundos dos mesmos participantes\n",
    "# (i.e., cada participante assistiu aos dois filmes, emitindo avaliações para cada um desses filmes)\n",
    "\n",
    "from scipy import stats\n",
    "\n",
    "# Calculando os tamanhos de efeito\n",
    "d_rm, d_av = tamanho_de_efeito(titanic, the_green_mile, independent = False)\n",
    "\n",
    "# Calculando graus de liberdade, pois função a seguir não retorna seu valor\n",
    "# graus de liberdade = número de pares - 1\n",
    "gl = titanic.size - 1\n",
    "\n",
    "# Calculando o teste t pareado\n",
    "t, p = stats.ttest_rel(titanic, the_green_mile)\n",
    "\n",
    "# Imprimindo os resultados\n",
    "# ddof = 1 na função np.std() tem como objetivo usar N - 1 no denominador do DP\n",
    "print(f'''A avaliação dos participantes ao filme Titanic foi significativamente mais agradável (M = {np.mean(titanic):.2f},\n",
    "DP = {np.std(titanic, ddof = 1):.2f}) do que a avaliação ao filme The Green Mile (M = {np.mean(the_green_mile):.2f},\n",
    "DP = {np.std(the_green_mile, ddof = 1):.2f}), t({gl:.0f}) = {t:.2f}, p = {p:.3f}, d_rm = {d_rm:.2f}, d_av = {d_av:.2f}.''')"
   ]
  },
  {
   "cell_type": "markdown",
   "metadata": {
    "id": "wwPka4iJnKsC"
   },
   "source": [
    "### Gerando um gráfico que ilustra os resultados acima. Para fins de simplificação, usaremos erros padrões das médias como barras de erro. "
   ]
  },
  {
   "cell_type": "code",
   "execution_count": 6,
   "metadata": {
    "colab": {
     "base_uri": "https://localhost:8080/",
     "height": 299
    },
    "executionInfo": {
     "elapsed": 691,
     "status": "ok",
     "timestamp": 1643077330487,
     "user": {
      "displayName": "Marcos Lima",
      "photoUrl": "https://lh3.googleusercontent.com/a-/AOh14GjPkqY9h8ofRUdSfF7NlRlX2qBndhrvEgGih7OPbg=s64",
      "userId": "12059436749293830667"
     },
     "user_tz": 180
    },
    "id": "ySZQJTS6nKG_",
    "outputId": "b41344f5-9ba1-42f1-98ba-c2dc2d599a45"
   },
   "outputs": [
    {
     "data": {
      "image/png": "[encoded data removed]",
      "text/plain": [
       "<Figure size 432x288 with 1 Axes>"
      ]
     },
     "metadata": {},
     "output_type": "display_data"
    }
   ],
   "source": [
    "# Gráfico de barras com pontos individuais\n",
    "w = 0.8    # largura da barra\n",
    "x = [1, 2] # coordenadas das barras no eixo x\n",
    "\n",
    "# Nomes das cores: https://matplotlib.org/3.1.0/gallery/color/named_colors.html\n",
    "colors = [\"indigo\", \"navy\"]    # cores das barras\n",
    "fill_colors = [\"mediumpurple\", \"cornflowerblue\"] # cores do preenchimento das barras\n",
    "\n",
    "y = [titanic, the_green_mile] # avaliações dos filmes pelos participantes\n",
    "\n",
    "# Reconfigurando o valor default de tamanho da fonte nos gráficos\n",
    "plt.rcParams.update({'font.size': 12})\n",
    "\n",
    "# E o estilo dos gráficos\n",
    "plt.style.use(\"ggplot\")\n",
    "\n",
    "# E, finalmente, o glorioso gráfico\n",
    "fig, ax = plt.subplots()\n",
    "\n",
    "# Plotando as barras\n",
    "ax.bar(x,\n",
    "       height = [np.mean(yi) for yi in y], # altura das barras\n",
    "       yerr = [np.std(yi) / (yi.size ** 0.5) for yi in y],    # barras de erro = EPM\n",
    "       capsize = 12, # espessura das barras de erro\n",
    "       width = w,    # largura das barras de erro\n",
    "       tick_label = [\"Titanic\", \"À Espera de um Milagre\"],\n",
    "       color = fill_colors,\n",
    "       edgecolor = colors\n",
    "       )\n",
    "    \n",
    "ax.set_xlabel('Filme', fontsize = 16)\n",
    "ax.set_ylabel('Avaliação Média (0–10)', fontsize = 16)\n",
    "\n",
    "# Limites do eixo y\n",
    "ax.set_ylim(0, 11)\n",
    "\n",
    "fig.tight_layout(pad = 1.0)\n",
    "\n",
    "plt.savefig(\"001 - Figura 1 - Teste t.jpg\", dpi = 600, bbox_inches = \"tight\")\n",
    "\n",
    "plt.show()"
   ]
  }
 ],
 "metadata": {
  "colab": {
   "authorship_tag": "ABX9TyMQj3wX4Kxi7fkK9sVJ7Btw",
   "collapsed_sections": [],
   "mount_file_id": "1P3V3IIYB1IwY9m3vmGufxsFpN0Nmgvw7",
   "name": "001 - Testes t independente e pareado.ipynb",
   "provenance": []
  },
  "kernelspec": {
   "display_name": "Python 3",
   "language": "python",
   "name": "python3"
  },
  "language_info": {
   "codemirror_mode": {
    "name": "ipython",
    "version": 3
   },
   "file_extension": ".py",
   "mimetype": "text/x-python",
   "name": "python",
   "nbconvert_exporter": "python",
   "pygments_lexer": "ipython3",
   "version": "3.8.5"
  }
 },
 "nbformat": 4,
 "nbformat_minor": 1
}
