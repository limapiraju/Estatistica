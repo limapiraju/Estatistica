{
 "cells": [
  {
   "cell_type": "markdown",
   "metadata": {},
   "source": [
    "**Exercício 1:** Escreva uma função que recebe os valores dos 3 lados de um triângulo qualquer e que, por meio do *Teorema de Heron* (https://pt.wikipedia.org/wiki/Teorema_de_Her%C3%A3o), calcula e retorna a área deste triângulo.\n",
    "\n",
    "<img src=\"teorema_de_heron.jpg\">"
   ]
  },
  {
   "cell_type": "code",
   "execution_count": 9,
   "metadata": {},
   "outputs": [
    {
     "name": "stdout",
     "output_type": "stream",
     "text": [
      "4.677\n",
      "6.000\n",
      "72.618\n"
     ]
    }
   ],
   "source": [
    "# importando bibliotecas\n",
    "import math\n",
    "\n",
    "def heron(a, b, c):\n",
    "    '''Recebe os lados a, b e c de um triângulo e calcula sua área.'''\n",
    "   \n",
    "    semiperimetro = 0.5 * (a + b + c)\n",
    "    area = math.sqrt(semiperimetro * (semiperimetro - a) * (semiperimetro - b) * (semiperimetro - c))\n",
    "    return area\n",
    "\n",
    "print(f\"{heron(4.5, 2.4, 3.9):.3f}\")\n",
    "print(f\"{heron(3, 4, 5):.3f}\")\n",
    "print(f\"{heron(10, 15, 20):.3f}\")"
   ]
  },
  {
   "cell_type": "markdown",
   "metadata": {},
   "source": [
    "**Exercício 2:** Escreva uma função recursiva que recebe n e calcula seu fatorial:\n",
    "\n",
    "<img src = \"fatorial.jpg\">"
   ]
  },
  {
   "cell_type": "code",
   "execution_count": 10,
   "metadata": {},
   "outputs": [
    {
     "name": "stdout",
     "output_type": "stream",
     "text": [
      "O fatorial de  0 é       1.\n",
      "O fatorial de  1 é       1.\n",
      "O fatorial de  2 é       2.\n",
      "O fatorial de  3 é       6.\n",
      "O fatorial de  4 é      24.\n",
      "O fatorial de  5 é     120.\n",
      "O fatorial de  6 é     720.\n",
      "O fatorial de  7 é    5040.\n",
      "O fatorial de  8 é   40320.\n",
      "O fatorial de  9 é  362880.\n",
      "O fatorial de 10 é 3628800.\n"
     ]
    }
   ],
   "source": [
    "def fatorial(n: int):\n",
    "    '''\n",
    "    Recebe n e devolve n! belamente formatada.\n",
    "    '''\n",
    "    if n <= 1:\n",
    "        return 1\n",
    "    else:\n",
    "        return n * fatorial(n - 1)\n",
    "    \n",
    "\n",
    "# testando a função\n",
    "for i in range(0, 11):\n",
    "    print(f\"O fatorial de {i:>2} é {fatorial(i):>7}.\")    "
   ]
  },
  {
   "cell_type": "markdown",
   "metadata": {},
   "source": [
    "**Exercício 3:** Calcule o valor aproximado de *pi* com base na fórmula a seguir:\n",
    "\n",
    "<img src=\"calcula_pi.jpg\">\n",
    "        "
   ]
  },
  {
   "cell_type": "code",
   "execution_count": 11,
   "metadata": {},
   "outputs": [
    {
     "name": "stdout",
     "output_type": "stream",
     "text": [
      "3.1415925860524654\n"
     ]
    },
    {
     "data": {
      "text/plain": [
       "True"
      ]
     },
     "execution_count": 11,
     "metadata": {},
     "output_type": "execute_result"
    }
   ],
   "source": [
    "import math\n",
    "\n",
    "def pi(termos: int = 2):\n",
    "    '''\n",
    "    Calcula o valor aproximado de pi dado uma soma de frações S com n termos.\n",
    "    '''\n",
    "    S = 0\n",
    "    \n",
    "    for i in range(1, termos + 1):\n",
    "        # em termos ímpares\n",
    "        if i % 2 == 1:\n",
    "            S = S + (1 / ((i * 2 - 1) ** 3))\n",
    "        # em termos pares\n",
    "        else:\n",
    "            S = S - (1 / ((i * 2 - 1) ** 3))\n",
    "            \n",
    "    return (S * 32) ** (1 / 3)\n",
    "\n",
    "\n",
    "# imprime meu número pi\n",
    "print(pi(100))\n",
    "\n",
    "# e avalia se esse número é aproximadamente igual ao pi da biblioteca math\n",
    "math.isclose(pi(100), math.pi, rel_tol = 0.01)  \n",
    "    "
   ]
  },
  {
   "cell_type": "markdown",
   "metadata": {},
   "source": [
    "**Exercício 4:** Em teoria das probabilidades, o *paradoxo do aniversário* afirma que dado um grupo de 23 pessoas escolhidas aleatoriamente, a chance de que duas pessoas terão a mesma data de aniversário é de mais de 50% (retirado da Wikipédia: https://pt.wikipedia.org/wiki/Paradoxo_do_anivers%C3%A1rio).\n",
    "\n",
    "Escreva um programa em Python que demonstre que essa afirmação é verdadeira."
   ]
  },
  {
   "cell_type": "code",
   "execution_count": 14,
   "metadata": {},
   "outputs": [
    {
     "name": "stdout",
     "output_type": "stream",
     "text": [
      "A probabilidade de pelo menos duas pessoas fazerem aniversário no mesmo dia em um grupo\n",
      "com 23 pessoas é de 0.507.\n"
     ]
    }
   ],
   "source": [
    "# implementação 1: analítica (baseada na Wikipédia):\n",
    "def birthday(n):\n",
    "    '''\n",
    "    Retorna a probabilidade de ao menos duas pessoas fazerem aniversário no mesmo dia, dadas n pessoas\n",
    "    em um grupo.\n",
    "    '''\n",
    "    p = (1.0 / 365) ** n\n",
    "    for i in range((366 - n), 366):\n",
    "        p *= i\n",
    "    return 1 - p\n",
    "\n",
    "print(f\"\"\"A probabilidade de pelo menos duas pessoas fazerem aniversário no mesmo dia em um grupo\n",
    "com 23 pessoas é de {birthday(23):.3f}.\"\"\")"
   ]
  },
  {
   "cell_type": "code",
   "execution_count": 15,
   "metadata": {},
   "outputs": [
    {
     "name": "stdout",
     "output_type": "stream",
     "text": [
      "Número de pessoas no grupo: 1\n",
      "Percentual de simulações que tiveram ao menos duas pessoas compartilhando dia de aniversário: 0.000000\n",
      "Número de pessoas no grupo: 2\n",
      "Percentual de simulações que tiveram ao menos duas pessoas compartilhando dia de aniversário: 0.002700\n",
      "Número de pessoas no grupo: 3\n",
      "Percentual de simulações que tiveram ao menos duas pessoas compartilhando dia de aniversário: 0.006800\n",
      "Número de pessoas no grupo: 4\n",
      "Percentual de simulações que tiveram ao menos duas pessoas compartilhando dia de aniversário: 0.013900\n",
      "Número de pessoas no grupo: 5\n",
      "Percentual de simulações que tiveram ao menos duas pessoas compartilhando dia de aniversário: 0.027000\n",
      "Número de pessoas no grupo: 6\n",
      "Percentual de simulações que tiveram ao menos duas pessoas compartilhando dia de aniversário: 0.038800\n",
      "Número de pessoas no grupo: 7\n",
      "Percentual de simulações que tiveram ao menos duas pessoas compartilhando dia de aniversário: 0.059100\n",
      "Número de pessoas no grupo: 8\n",
      "Percentual de simulações que tiveram ao menos duas pessoas compartilhando dia de aniversário: 0.074400\n",
      "Número de pessoas no grupo: 9\n",
      "Percentual de simulações que tiveram ao menos duas pessoas compartilhando dia de aniversário: 0.095800\n",
      "Número de pessoas no grupo: 10\n",
      "Percentual de simulações que tiveram ao menos duas pessoas compartilhando dia de aniversário: 0.118600\n",
      "Número de pessoas no grupo: 11\n",
      "Percentual de simulações que tiveram ao menos duas pessoas compartilhando dia de aniversário: 0.136800\n",
      "Número de pessoas no grupo: 12\n",
      "Percentual de simulações que tiveram ao menos duas pessoas compartilhando dia de aniversário: 0.164000\n",
      "Número de pessoas no grupo: 13\n",
      "Percentual de simulações que tiveram ao menos duas pessoas compartilhando dia de aniversário: 0.194100\n",
      "Número de pessoas no grupo: 14\n",
      "Percentual de simulações que tiveram ao menos duas pessoas compartilhando dia de aniversário: 0.222300\n",
      "Número de pessoas no grupo: 15\n",
      "Percentual de simulações que tiveram ao menos duas pessoas compartilhando dia de aniversário: 0.251700\n",
      "Número de pessoas no grupo: 16\n",
      "Percentual de simulações que tiveram ao menos duas pessoas compartilhando dia de aniversário: 0.287600\n",
      "Número de pessoas no grupo: 17\n",
      "Percentual de simulações que tiveram ao menos duas pessoas compartilhando dia de aniversário: 0.313900\n",
      "Número de pessoas no grupo: 18\n",
      "Percentual de simulações que tiveram ao menos duas pessoas compartilhando dia de aniversário: 0.346300\n",
      "Número de pessoas no grupo: 19\n",
      "Percentual de simulações que tiveram ao menos duas pessoas compartilhando dia de aniversário: 0.389700\n",
      "Número de pessoas no grupo: 20\n",
      "Percentual de simulações que tiveram ao menos duas pessoas compartilhando dia de aniversário: 0.419500\n",
      "Número de pessoas no grupo: 21\n",
      "Percentual de simulações que tiveram ao menos duas pessoas compartilhando dia de aniversário: 0.444500\n",
      "Número de pessoas no grupo: 22\n",
      "Percentual de simulações que tiveram ao menos duas pessoas compartilhando dia de aniversário: 0.480000\n",
      "Número de pessoas no grupo: 23\n",
      "Percentual de simulações que tiveram ao menos duas pessoas compartilhando dia de aniversário: 0.510500\n",
      "Número de pessoas no grupo: 24\n",
      "Percentual de simulações que tiveram ao menos duas pessoas compartilhando dia de aniversário: 0.541400\n",
      "Número de pessoas no grupo: 25\n",
      "Percentual de simulações que tiveram ao menos duas pessoas compartilhando dia de aniversário: 0.572400\n",
      "Número de pessoas no grupo: 26\n",
      "Percentual de simulações que tiveram ao menos duas pessoas compartilhando dia de aniversário: 0.604800\n",
      "Número de pessoas no grupo: 27\n",
      "Percentual de simulações que tiveram ao menos duas pessoas compartilhando dia de aniversário: 0.629500\n",
      "Número de pessoas no grupo: 28\n",
      "Percentual de simulações que tiveram ao menos duas pessoas compartilhando dia de aniversário: 0.652000\n",
      "Número de pessoas no grupo: 29\n",
      "Percentual de simulações que tiveram ao menos duas pessoas compartilhando dia de aniversário: 0.674700\n",
      "Número de pessoas no grupo: 30\n",
      "Percentual de simulações que tiveram ao menos duas pessoas compartilhando dia de aniversário: 0.701300\n",
      "Número de pessoas no grupo: 31\n",
      "Percentual de simulações que tiveram ao menos duas pessoas compartilhando dia de aniversário: 0.734900\n",
      "Número de pessoas no grupo: 32\n",
      "Percentual de simulações que tiveram ao menos duas pessoas compartilhando dia de aniversário: 0.741100\n",
      "Número de pessoas no grupo: 33\n",
      "Percentual de simulações que tiveram ao menos duas pessoas compartilhando dia de aniversário: 0.774700\n",
      "Número de pessoas no grupo: 34\n",
      "Percentual de simulações que tiveram ao menos duas pessoas compartilhando dia de aniversário: 0.797800\n",
      "Número de pessoas no grupo: 35\n",
      "Percentual de simulações que tiveram ao menos duas pessoas compartilhando dia de aniversário: 0.811300\n",
      "Número de pessoas no grupo: 36\n",
      "Percentual de simulações que tiveram ao menos duas pessoas compartilhando dia de aniversário: 0.832300\n",
      "Número de pessoas no grupo: 37\n",
      "Percentual de simulações que tiveram ao menos duas pessoas compartilhando dia de aniversário: 0.849600\n",
      "Número de pessoas no grupo: 38\n",
      "Percentual de simulações que tiveram ao menos duas pessoas compartilhando dia de aniversário: 0.869200\n",
      "Número de pessoas no grupo: 39\n",
      "Percentual de simulações que tiveram ao menos duas pessoas compartilhando dia de aniversário: 0.877600\n",
      "Número de pessoas no grupo: 40\n",
      "Percentual de simulações que tiveram ao menos duas pessoas compartilhando dia de aniversário: 0.884300\n",
      "Número de pessoas no grupo: 41\n",
      "Percentual de simulações que tiveram ao menos duas pessoas compartilhando dia de aniversário: 0.905000\n",
      "Número de pessoas no grupo: 42\n",
      "Percentual de simulações que tiveram ao menos duas pessoas compartilhando dia de aniversário: 0.911500\n",
      "Número de pessoas no grupo: 43\n",
      "Percentual de simulações que tiveram ao menos duas pessoas compartilhando dia de aniversário: 0.925400\n",
      "Número de pessoas no grupo: 44\n",
      "Percentual de simulações que tiveram ao menos duas pessoas compartilhando dia de aniversário: 0.932200\n",
      "Número de pessoas no grupo: 45\n",
      "Percentual de simulações que tiveram ao menos duas pessoas compartilhando dia de aniversário: 0.939000\n",
      "Número de pessoas no grupo: 46\n",
      "Percentual de simulações que tiveram ao menos duas pessoas compartilhando dia de aniversário: 0.946100\n",
      "Número de pessoas no grupo: 47\n",
      "Percentual de simulações que tiveram ao menos duas pessoas compartilhando dia de aniversário: 0.956500\n",
      "Número de pessoas no grupo: 48\n",
      "Percentual de simulações que tiveram ao menos duas pessoas compartilhando dia de aniversário: 0.960500\n",
      "Número de pessoas no grupo: 49\n",
      "Percentual de simulações que tiveram ao menos duas pessoas compartilhando dia de aniversário: 0.965200\n",
      "Número de pessoas no grupo: 50\n",
      "Percentual de simulações que tiveram ao menos duas pessoas compartilhando dia de aniversário: 0.970500\n",
      "Número de pessoas no grupo: 51\n",
      "Percentual de simulações que tiveram ao menos duas pessoas compartilhando dia de aniversário: 0.973500\n",
      "Número de pessoas no grupo: 52\n",
      "Percentual de simulações que tiveram ao menos duas pessoas compartilhando dia de aniversário: 0.979900\n",
      "Número de pessoas no grupo: 53\n",
      "Percentual de simulações que tiveram ao menos duas pessoas compartilhando dia de aniversário: 0.982200\n",
      "Número de pessoas no grupo: 54\n",
      "Percentual de simulações que tiveram ao menos duas pessoas compartilhando dia de aniversário: 0.985700\n",
      "Número de pessoas no grupo: 55\n",
      "Percentual de simulações que tiveram ao menos duas pessoas compartilhando dia de aniversário: 0.985800\n",
      "Número de pessoas no grupo: 56\n",
      "Percentual de simulações que tiveram ao menos duas pessoas compartilhando dia de aniversário: 0.988600\n",
      "Número de pessoas no grupo: 57\n",
      "Percentual de simulações que tiveram ao menos duas pessoas compartilhando dia de aniversário: 0.990900\n",
      "Número de pessoas no grupo: 58\n",
      "Percentual de simulações que tiveram ao menos duas pessoas compartilhando dia de aniversário: 0.991800\n",
      "Número de pessoas no grupo: 59\n",
      "Percentual de simulações que tiveram ao menos duas pessoas compartilhando dia de aniversário: 0.992500\n",
      "Número de pessoas no grupo: 60\n",
      "Percentual de simulações que tiveram ao menos duas pessoas compartilhando dia de aniversário: 0.992900\n",
      "Número de pessoas no grupo: 61\n",
      "Percentual de simulações que tiveram ao menos duas pessoas compartilhando dia de aniversário: 0.995100\n",
      "Número de pessoas no grupo: 62\n",
      "Percentual de simulações que tiveram ao menos duas pessoas compartilhando dia de aniversário: 0.995300\n"
     ]
    },
    {
     "name": "stdout",
     "output_type": "stream",
     "text": [
      "Número de pessoas no grupo: 63\n",
      "Percentual de simulações que tiveram ao menos duas pessoas compartilhando dia de aniversário: 0.996700\n",
      "Número de pessoas no grupo: 64\n",
      "Percentual de simulações que tiveram ao menos duas pessoas compartilhando dia de aniversário: 0.997300\n",
      "Número de pessoas no grupo: 65\n",
      "Percentual de simulações que tiveram ao menos duas pessoas compartilhando dia de aniversário: 0.997400\n",
      "Número de pessoas no grupo: 66\n",
      "Percentual de simulações que tiveram ao menos duas pessoas compartilhando dia de aniversário: 0.998200\n",
      "Número de pessoas no grupo: 67\n",
      "Percentual de simulações que tiveram ao menos duas pessoas compartilhando dia de aniversário: 0.998100\n",
      "Número de pessoas no grupo: 68\n",
      "Percentual de simulações que tiveram ao menos duas pessoas compartilhando dia de aniversário: 0.998700\n",
      "Número de pessoas no grupo: 69\n",
      "Percentual de simulações que tiveram ao menos duas pessoas compartilhando dia de aniversário: 0.999100\n",
      "Número de pessoas no grupo: 70\n",
      "Percentual de simulações que tiveram ao menos duas pessoas compartilhando dia de aniversário: 0.998900\n",
      "Número de pessoas no grupo: 71\n",
      "Percentual de simulações que tiveram ao menos duas pessoas compartilhando dia de aniversário: 0.999200\n",
      "Número de pessoas no grupo: 72\n",
      "Percentual de simulações que tiveram ao menos duas pessoas compartilhando dia de aniversário: 0.999300\n",
      "Número de pessoas no grupo: 73\n",
      "Percentual de simulações que tiveram ao menos duas pessoas compartilhando dia de aniversário: 0.999600\n",
      "Número de pessoas no grupo: 74\n",
      "Percentual de simulações que tiveram ao menos duas pessoas compartilhando dia de aniversário: 0.999600\n",
      "Número de pessoas no grupo: 75\n",
      "Percentual de simulações que tiveram ao menos duas pessoas compartilhando dia de aniversário: 0.999700\n",
      "Número de pessoas no grupo: 76\n",
      "Percentual de simulações que tiveram ao menos duas pessoas compartilhando dia de aniversário: 0.999700\n",
      "Número de pessoas no grupo: 77\n",
      "Percentual de simulações que tiveram ao menos duas pessoas compartilhando dia de aniversário: 1.000000\n",
      "Número de pessoas no grupo: 78\n",
      "Percentual de simulações que tiveram ao menos duas pessoas compartilhando dia de aniversário: 0.999800\n",
      "Número de pessoas no grupo: 79\n",
      "Percentual de simulações que tiveram ao menos duas pessoas compartilhando dia de aniversário: 0.999900\n",
      "Número de pessoas no grupo: 80\n",
      "Percentual de simulações que tiveram ao menos duas pessoas compartilhando dia de aniversário: 0.999700\n",
      "Número de pessoas no grupo: 81\n",
      "Percentual de simulações que tiveram ao menos duas pessoas compartilhando dia de aniversário: 0.999900\n",
      "Número de pessoas no grupo: 82\n",
      "Percentual de simulações que tiveram ao menos duas pessoas compartilhando dia de aniversário: 0.999900\n",
      "Número de pessoas no grupo: 83\n",
      "Percentual de simulações que tiveram ao menos duas pessoas compartilhando dia de aniversário: 1.000000\n",
      "Número de pessoas no grupo: 84\n",
      "Percentual de simulações que tiveram ao menos duas pessoas compartilhando dia de aniversário: 1.000000\n",
      "Número de pessoas no grupo: 85\n",
      "Percentual de simulações que tiveram ao menos duas pessoas compartilhando dia de aniversário: 1.000000\n",
      "Número de pessoas no grupo: 86\n",
      "Percentual de simulações que tiveram ao menos duas pessoas compartilhando dia de aniversário: 0.999900\n",
      "Número de pessoas no grupo: 87\n",
      "Percentual de simulações que tiveram ao menos duas pessoas compartilhando dia de aniversário: 0.999800\n",
      "Número de pessoas no grupo: 88\n",
      "Percentual de simulações que tiveram ao menos duas pessoas compartilhando dia de aniversário: 1.000000\n",
      "Número de pessoas no grupo: 89\n",
      "Percentual de simulações que tiveram ao menos duas pessoas compartilhando dia de aniversário: 1.000000\n",
      "Número de pessoas no grupo: 90\n",
      "Percentual de simulações que tiveram ao menos duas pessoas compartilhando dia de aniversário: 1.000000\n",
      "Número de pessoas no grupo: 91\n",
      "Percentual de simulações que tiveram ao menos duas pessoas compartilhando dia de aniversário: 1.000000\n",
      "Número de pessoas no grupo: 92\n",
      "Percentual de simulações que tiveram ao menos duas pessoas compartilhando dia de aniversário: 1.000000\n",
      "Número de pessoas no grupo: 93\n",
      "Percentual de simulações que tiveram ao menos duas pessoas compartilhando dia de aniversário: 1.000000\n",
      "Número de pessoas no grupo: 94\n",
      "Percentual de simulações que tiveram ao menos duas pessoas compartilhando dia de aniversário: 1.000000\n",
      "Número de pessoas no grupo: 95\n",
      "Percentual de simulações que tiveram ao menos duas pessoas compartilhando dia de aniversário: 1.000000\n",
      "Número de pessoas no grupo: 96\n",
      "Percentual de simulações que tiveram ao menos duas pessoas compartilhando dia de aniversário: 1.000000\n",
      "Número de pessoas no grupo: 97\n",
      "Percentual de simulações que tiveram ao menos duas pessoas compartilhando dia de aniversário: 1.000000\n",
      "Número de pessoas no grupo: 98\n",
      "Percentual de simulações que tiveram ao menos duas pessoas compartilhando dia de aniversário: 1.000000\n",
      "Número de pessoas no grupo: 99\n",
      "Percentual de simulações que tiveram ao menos duas pessoas compartilhando dia de aniversário: 1.000000\n",
      "Número de pessoas no grupo: 100\n",
      "Percentual de simulações que tiveram ao menos duas pessoas compartilhando dia de aniversário: 1.000000\n"
     ]
    }
   ],
   "source": [
    "# implementação 2: frequentista (baseada em simulação de agrupamentos de pessoas)\n",
    "\n",
    "import random\n",
    "\n",
    "# gera datas\n",
    "dates = [f'{day}/{month}' for day in range(1, 32) for month in range(1, 13)]\n",
    "\n",
    "# cria os dias e meses do ano (assumindo 365 dias)\n",
    "for date in dates:\n",
    "    if date in ['29/2', '30/2', '31/2', '30/4', '30/6', '30/9', '30/11']:\n",
    "        dates.remove(date)\n",
    "\n",
    "# aqui serão guardadas as probabilidades de ao menos duas pessoas fazerem aniversário no mesmo dia\n",
    "# dadas N pessoas no grupo\n",
    "results = []\n",
    "\n",
    "# Percorre diferentes tamanhos de grupos de pessoas\n",
    "for group_sizes in range(2, 102):\n",
    "    count = 0 # número de vezes que ao menos duas pessoas fizeram aniversário no mesmo dia do ano\n",
    "    n_sims = 10_000 # número de simulações\n",
    "\n",
    "    # vamos à simulação!\n",
    "    for simulation in range(n_sims):\n",
    "        birthdays = [] # datas de aniversário na amostra\n",
    "        #partners_sharing_birthday_day = 0 # número de pessoas que fazem aniversár\n",
    "        \n",
    "        for group_size in range(1, group_sizes):\n",
    "            birthdays.append(random.choice(dates)) # sorteia um cidadão ou cidadã\n",
    "\n",
    "        for birthday in birthdays:\n",
    "            if birthdays.count(birthday) > 1: # se alguém faz aniversário junto\n",
    "                count += 1 # incremente em uma ocorrência esse fato lindo e interrompa esse loop\n",
    "                break\n",
    "\n",
    "    # Terminamos...\n",
    "    # calcule as probabilidades para cada iteração do loop mais externo\n",
    "    # e apresente o resultado na tela\n",
    "    probability = count / n_sims\n",
    "    print(f\"\"\"Número de pessoas no grupo: {group_size}\n",
    "Percentual de simulações que tiveram ao menos duas pessoas compartilhando dia de aniversário: {probability:.6f}\"\"\")\n",
    "\n",
    "    results.append(probability)"
   ]
  },
  {
   "cell_type": "markdown",
   "metadata": {},
   "source": [
    "Gerando um gráfico com o `matplotlib`, só pela zoeira... =P"
   ]
  },
  {
   "cell_type": "code",
   "execution_count": 16,
   "metadata": {},
   "outputs": [
    {
     "data": {
      "image/png": "[encoded data removed]",
      "text/plain": [
       "<Figure size 432x288 with 1 Axes>"
      ]
     },
     "metadata": {
      "needs_background": "light"
     },
     "output_type": "display_data"
    }
   ],
   "source": [
    "import numpy as np\n",
    "import matplotlib.pyplot as plt\n",
    "\n",
    "group_sizes = list(range(2, 102))\n",
    "\n",
    "plt.plot(group_sizes, results, color = \"darkgreen\")\n",
    "plt.xlabel(\"Número de Pessoas no Grupo\", fontsize = 16)\n",
    "plt.ylabel(\"Probabilidade de Pelo Menos\\nDuas Pessoas Fazerem\\nAniversário no Mesmo Dia\", fontsize = 16)\n",
    "plt.axvline(x = 23, linestyle = '--', linewidth = 0.4, color = \"red\")\n",
    "plt.axhline(y = 0.50, linestyle = '--', linewidth = 0.4, color = \"red\")\n",
    "plt.xticks(np.linspace(0, 100, 11))\n",
    "plt.yticks(np.linspace(0, 1, 11))\n",
    "\n",
    "plt.savefig(\"010 - Paradoxo do aniversário.jpg\", dpi = 600, bbox_inches = \"tight\")\n",
    "\n",
    "plt.show()"
   ]
  },
  {
   "cell_type": "code",
   "execution_count": null,
   "metadata": {},
   "outputs": [],
   "source": []
  }
 ],
 "metadata": {
  "kernelspec": {
   "display_name": "Python 3",
   "language": "python",
   "name": "python3"
  }
 },
 "nbformat": 4,
 "nbformat_minor": 4
}
