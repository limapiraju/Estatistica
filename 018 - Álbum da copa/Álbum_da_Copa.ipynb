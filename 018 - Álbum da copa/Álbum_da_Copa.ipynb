{
  "cells": [
    {
      "cell_type": "code",
      "execution_count": null,
      "id": "a13e124d",
      "metadata": {
        "id": "a13e124d"
      },
      "outputs": [],
      "source": [
        "# Simulação de 10 mil colecionadores que compram 1 pacote de figurinhas por dia\n",
        "# O que eu quero saber?\n",
        "# Qual é o MENOR número de dias/pacotes que deverão ser comprados para completar\n",
        "# o álbum?\n",
        "# Qual é o MAIOR número de dias/pacotes que deverão ser comprados para completar\n",
        "# o álbum?\n",
        "# Qual é o número médio de dias/pacotes que um colecionador deverá comprar para\n",
        "# completar o álbum?\n",
        "# Como é a distribuição de dias/pacotes necessários para completar o álbum?\n",
        "\n",
        "# Pressupostos:\n",
        "# 1. Todas as 670 figurinhas são equipropráveis de saírem em um pacote.\n",
        "# 2. Não saem figurinhas repetidas em um mesmo pacote. \n",
        "# 3. Os colecionadores não trocam figurinhas e tentam completar o álbum\n",
        "# unicamente comprando novos pacotes de figurinhas.    "
      ]
    },
    {
      "cell_type": "code",
      "execution_count": 25,
      "id": "1173349a",
      "metadata": {
        "colab": {
          "base_uri": "https://localhost:8080/"
        },
        "id": "1173349a",
        "outputId": "c535dbe5-bdb4-4ca4-9a08-4de91174aa3b"
      },
      "outputs": [
        {
          "output_type": "stream",
          "name": "stdout",
          "text": [
            "Simulação 100 concluída com sucesso!\n",
            "Simulação 200 concluída com sucesso!\n",
            "Simulação 300 concluída com sucesso!\n",
            "Simulação 400 concluída com sucesso!\n",
            "Simulação 500 concluída com sucesso!\n",
            "Simulação 600 concluída com sucesso!\n",
            "Simulação 700 concluída com sucesso!\n",
            "Simulação 800 concluída com sucesso!\n",
            "Simulação 900 concluída com sucesso!\n",
            "Simulação 1000 concluída com sucesso!\n",
            "Simulação 1100 concluída com sucesso!\n",
            "Simulação 1200 concluída com sucesso!\n",
            "Simulação 1300 concluída com sucesso!\n",
            "Simulação 1400 concluída com sucesso!\n",
            "Simulação 1500 concluída com sucesso!\n",
            "Simulação 1600 concluída com sucesso!\n",
            "Simulação 1700 concluída com sucesso!\n",
            "Simulação 1800 concluída com sucesso!\n",
            "Simulação 1900 concluída com sucesso!\n",
            "Simulação 2000 concluída com sucesso!\n",
            "Simulação 2100 concluída com sucesso!\n",
            "Simulação 2200 concluída com sucesso!\n",
            "Simulação 2300 concluída com sucesso!\n",
            "Simulação 2400 concluída com sucesso!\n",
            "Simulação 2500 concluída com sucesso!\n",
            "Simulação 2600 concluída com sucesso!\n",
            "Simulação 2700 concluída com sucesso!\n",
            "Simulação 2800 concluída com sucesso!\n",
            "Simulação 2900 concluída com sucesso!\n",
            "Simulação 3000 concluída com sucesso!\n",
            "Simulação 3100 concluída com sucesso!\n",
            "Simulação 3200 concluída com sucesso!\n",
            "Simulação 3300 concluída com sucesso!\n",
            "Simulação 3400 concluída com sucesso!\n",
            "Simulação 3500 concluída com sucesso!\n",
            "Simulação 3600 concluída com sucesso!\n",
            "Simulação 3700 concluída com sucesso!\n",
            "Simulação 3800 concluída com sucesso!\n",
            "Simulação 3900 concluída com sucesso!\n",
            "Simulação 4000 concluída com sucesso!\n",
            "Simulação 4100 concluída com sucesso!\n",
            "Simulação 4200 concluída com sucesso!\n",
            "Simulação 4300 concluída com sucesso!\n",
            "Simulação 4400 concluída com sucesso!\n",
            "Simulação 4500 concluída com sucesso!\n",
            "Simulação 4600 concluída com sucesso!\n",
            "Simulação 4700 concluída com sucesso!\n",
            "Simulação 4800 concluída com sucesso!\n",
            "Simulação 4900 concluída com sucesso!\n",
            "Simulação 5000 concluída com sucesso!\n",
            "Simulação 5100 concluída com sucesso!\n",
            "Simulação 5200 concluída com sucesso!\n",
            "Simulação 5300 concluída com sucesso!\n",
            "Simulação 5400 concluída com sucesso!\n",
            "Simulação 5500 concluída com sucesso!\n",
            "Simulação 5600 concluída com sucesso!\n",
            "Simulação 5700 concluída com sucesso!\n",
            "Simulação 5800 concluída com sucesso!\n",
            "Simulação 5900 concluída com sucesso!\n",
            "Simulação 6000 concluída com sucesso!\n",
            "Simulação 6100 concluída com sucesso!\n",
            "Simulação 6200 concluída com sucesso!\n",
            "Simulação 6300 concluída com sucesso!\n",
            "Simulação 6400 concluída com sucesso!\n",
            "Simulação 6500 concluída com sucesso!\n",
            "Simulação 6600 concluída com sucesso!\n",
            "Simulação 6700 concluída com sucesso!\n",
            "Simulação 6800 concluída com sucesso!\n",
            "Simulação 6900 concluída com sucesso!\n",
            "Simulação 7000 concluída com sucesso!\n",
            "Simulação 7100 concluída com sucesso!\n",
            "Simulação 7200 concluída com sucesso!\n",
            "Simulação 7300 concluída com sucesso!\n",
            "Simulação 7400 concluída com sucesso!\n",
            "Simulação 7500 concluída com sucesso!\n",
            "Simulação 7600 concluída com sucesso!\n",
            "Simulação 7700 concluída com sucesso!\n",
            "Simulação 7800 concluída com sucesso!\n",
            "Simulação 7900 concluída com sucesso!\n",
            "Simulação 8000 concluída com sucesso!\n",
            "Simulação 8100 concluída com sucesso!\n",
            "Simulação 8200 concluída com sucesso!\n",
            "Simulação 8300 concluída com sucesso!\n",
            "Simulação 8400 concluída com sucesso!\n",
            "Simulação 8500 concluída com sucesso!\n",
            "Simulação 8600 concluída com sucesso!\n",
            "Simulação 8700 concluída com sucesso!\n",
            "Simulação 8800 concluída com sucesso!\n",
            "Simulação 8900 concluída com sucesso!\n",
            "Simulação 9000 concluída com sucesso!\n",
            "Simulação 9100 concluída com sucesso!\n",
            "Simulação 9200 concluída com sucesso!\n",
            "Simulação 9300 concluída com sucesso!\n",
            "Simulação 9400 concluída com sucesso!\n",
            "Simulação 9500 concluída com sucesso!\n",
            "Simulação 9600 concluída com sucesso!\n",
            "Simulação 9700 concluída com sucesso!\n",
            "Simulação 9800 concluída com sucesso!\n",
            "Simulação 9900 concluída com sucesso!\n",
            "Simulação 10000 concluída com sucesso!\n"
          ]
        }
      ],
      "source": [
        "# importando bibliotecas\n",
        "import random\n",
        "import numpy as np\n",
        "import pandas as pd\n",
        "import matplotlib.pyplot as plt\n",
        "\n",
        "# parâmetros da simulação\n",
        "cromos_por_envelope = 5\n",
        "preco_envelope = 4\n",
        "album_completo = 670\n",
        "\n",
        "# armazenará o número de dias que diferentes colecionadores levaram\n",
        "# para completar o álbum\n",
        "resultados = list()\n",
        "\n",
        "# número de colecionadores\n",
        "nReps = 10_000\n",
        "\n",
        "# laço for: percorre simulações do histórico de cada colecionador\n",
        "for simulacao in range(nReps): \n",
        "    \n",
        "    # definindo algumas variáveis que serão manipuladas a seguir:\n",
        "    valor_gasto = 0 # total gasto até o momento\n",
        "    figurinhas = list() # armazena todas as figurinhas que um colecionador possui\n",
        "    figurinhas_d2d = list() # número de figurinhas únicas dia após dia\n",
        "    day = 1 # número de dias transcorridos na simulação\n",
        "\n",
        "    # enquanto o colecionador não tiver completado o álbum...\n",
        "    while True:\n",
        "\n",
        "        # enquanto número de figurinhas inéditas for menor que o total do\n",
        "        # álbum completo\n",
        "        if len(list(set(figurinhas))) < album_completo:\n",
        "\n",
        "            # simulações principais\n",
        "            figurinhas.extend(random.sample(list(range(1, album_completo + 1)),\n",
        "                                            k = cromos_por_envelope))\n",
        "            valor_gasto += 4\n",
        "            figurinhas_d2d.append(len(list(set(figurinhas))))\n",
        "\n",
        "        day += 1 # número de dias/pacotes necessários para completar o álbum\n",
        "\n",
        "        # se o total de figurinhas for igual ao total do álbum completo\n",
        "        # significa que eu completei o álbum\n",
        "        if (len(list(set(figurinhas))) == album_completo):\n",
        "\n",
        "            # faz uma impressão na tela para sabermos quanto da simulação\n",
        "            # ainda falta\n",
        "            if (simulacao + 1) % 100 == 0:\n",
        "                print(f\"Simulação {simulacao + 1} concluída com sucesso!\")\n",
        "              \n",
        "            resultado.append(day)\n",
        "            break  \n"
      ]
    },
    {
      "cell_type": "code",
      "source": [
        "resultado[:10]"
      ],
      "metadata": {
        "colab": {
          "base_uri": "https://localhost:8080/"
        },
        "id": "9L88VaBJGgzn",
        "outputId": "2e5e4c38-a2df-4e28-8a4f-78669d474679"
      },
      "id": "9L88VaBJGgzn",
      "execution_count": 27,
      "outputs": [
        {
          "output_type": "execute_result",
          "data": {
            "text/plain": [
              "[677, 1071, 991, 737, 885, 909, 873, 1227, 900, 823]"
            ]
          },
          "metadata": {},
          "execution_count": 27
        }
      ]
    },
    {
      "cell_type": "code",
      "execution_count": 29,
      "id": "51be3c8d",
      "metadata": {
        "colab": {
          "base_uri": "https://localhost:8080/",
          "height": 282
        },
        "id": "51be3c8d",
        "outputId": "409fae78-831d-449c-a922-a589075d1f3e"
      },
      "outputs": [
        {
          "output_type": "display_data",
          "data": {
            "text/plain": [
              "<Figure size 432x288 with 1 Axes>"
            ],
            "image/png": "[encoded data removed]"
          },
          "metadata": {}
        }
      ],
      "source": [
        "plt.style.use(\"ggplot\")\n",
        "plt.hist(resultado, bins = 30, alpha = 0.8, color = \"red\", histtype = 'bar',\n",
        "         ec = 'black')\n",
        "plt.xlabel(\"Número de Envelopes\", fontsize = 12, fontweight = \"bold\")\n",
        "plt.ylabel(\"Frequência\", fontsize = 12, fontweight = \"bold\")\n",
        "plt.show()"
      ]
    },
    {
      "cell_type": "code",
      "execution_count": 31,
      "id": "e4e74fc2",
      "metadata": {
        "colab": {
          "base_uri": "https://localhost:8080/"
        },
        "id": "e4e74fc2",
        "outputId": "8fcd2a81-3b74-4650-9e8d-f6d4f29fcc6d"
      },
      "outputs": [
        {
          "output_type": "stream",
          "name": "stdout",
          "text": [
            "Média - envelopes: 950.12; gastos: 3800.46\n",
            "Mediana - envelopes: 922.00; gastos: 3688.00\n",
            "Desvio-padrão - envelopes: 171.68; gastos: 686.71\n",
            "Mínimo - envelopes: 587.00; gastos: 2348.00\n",
            "Máximo - envelopes: 2018.00; gastos: 8072.00\n"
          ]
        }
      ],
      "source": [
        "print(f\"Média - envelopes: {np.mean(resultado):.2f}; gastos: {np.mean(resultado) * preco_envelope:.2f}\")\n",
        "print(f\"Mediana - envelopes: {np.median(resultado):.2f}; gastos: {np.median(resultado) * preco_envelope:.2f}\")\n",
        "print(f\"Desvio-padrão - envelopes: {np.std(resultado):.2f}; gastos: {np.std(resultado) * preco_envelope:.2f}\")\n",
        "print(f\"Mínimo - envelopes: {np.min(resultado):.2f}; gastos: {np.min(resultado) * preco_envelope:.2f}\")\n",
        "print(f\"Máximo - envelopes: {np.max(resultado):.2f}; gastos: {np.max(resultado) * preco_envelope:.2f}\")"
      ]
    },
    {
      "cell_type": "code",
      "execution_count": 32,
      "id": "d2d99f01",
      "metadata": {
        "colab": {
          "base_uri": "https://localhost:8080/"
        },
        "id": "d2d99f01",
        "outputId": "10b4d494-6b3f-4823-a809-7b94f9b99f5e"
      },
      "outputs": [
        {
          "output_type": "stream",
          "name": "stdout",
          "text": [
            "Simulação 1000 concluída com sucesso!\n",
            "Simulação 2000 concluída com sucesso!\n",
            "Simulação 3000 concluída com sucesso!\n",
            "Simulação 4000 concluída com sucesso!\n",
            "Simulação 5000 concluída com sucesso!\n",
            "Simulação 6000 concluída com sucesso!\n",
            "Simulação 7000 concluída com sucesso!\n",
            "Simulação 8000 concluída com sucesso!\n",
            "Simulação 9000 concluída com sucesso!\n",
            "Simulação 10000 concluída com sucesso!\n",
            "Simulação 11000 concluída com sucesso!\n",
            "Simulação 12000 concluída com sucesso!\n",
            "Simulação 13000 concluída com sucesso!\n",
            "Simulação 14000 concluída com sucesso!\n",
            "Simulação 15000 concluída com sucesso!\n",
            "Simulação 16000 concluída com sucesso!\n",
            "Simulação 17000 concluída com sucesso!\n",
            "Simulação 18000 concluída com sucesso!\n",
            "Simulação 19000 concluída com sucesso!\n",
            "Simulação 20000 concluída com sucesso!\n",
            "Simulação 21000 concluída com sucesso!\n",
            "Simulação 22000 concluída com sucesso!\n",
            "Simulação 23000 concluída com sucesso!\n",
            "Simulação 24000 concluída com sucesso!\n",
            "Simulação 25000 concluída com sucesso!\n",
            "Simulação 26000 concluída com sucesso!\n",
            "Simulação 27000 concluída com sucesso!\n",
            "Simulação 28000 concluída com sucesso!\n",
            "Simulação 29000 concluída com sucesso!\n",
            "Simulação 30000 concluída com sucesso!\n",
            "Simulação 31000 concluída com sucesso!\n",
            "Simulação 32000 concluída com sucesso!\n",
            "Simulação 33000 concluída com sucesso!\n",
            "Simulação 34000 concluída com sucesso!\n",
            "Simulação 35000 concluída com sucesso!\n",
            "Simulação 36000 concluída com sucesso!\n",
            "Simulação 37000 concluída com sucesso!\n",
            "Simulação 38000 concluída com sucesso!\n",
            "Simulação 39000 concluída com sucesso!\n",
            "Simulação 40000 concluída com sucesso!\n",
            "Simulação 41000 concluída com sucesso!\n",
            "Simulação 42000 concluída com sucesso!\n",
            "Simulação 43000 concluída com sucesso!\n",
            "Simulação 44000 concluída com sucesso!\n",
            "Simulação 45000 concluída com sucesso!\n",
            "Simulação 46000 concluída com sucesso!\n",
            "Simulação 47000 concluída com sucesso!\n",
            "Simulação 48000 concluída com sucesso!\n",
            "Simulação 49000 concluída com sucesso!\n",
            "Simulação 50000 concluída com sucesso!\n",
            "Simulação 51000 concluída com sucesso!\n",
            "Simulação 52000 concluída com sucesso!\n",
            "Simulação 53000 concluída com sucesso!\n",
            "Simulação 54000 concluída com sucesso!\n",
            "Simulação 55000 concluída com sucesso!\n",
            "Simulação 56000 concluída com sucesso!\n",
            "Simulação 57000 concluída com sucesso!\n",
            "Simulação 58000 concluída com sucesso!\n",
            "Simulação 59000 concluída com sucesso!\n",
            "Simulação 60000 concluída com sucesso!\n",
            "Simulação 61000 concluída com sucesso!\n",
            "Simulação 62000 concluída com sucesso!\n",
            "Simulação 63000 concluída com sucesso!\n",
            "Simulação 64000 concluída com sucesso!\n",
            "Simulação 65000 concluída com sucesso!\n",
            "Simulação 66000 concluída com sucesso!\n",
            "Simulação 67000 concluída com sucesso!\n",
            "Simulação 68000 concluída com sucesso!\n",
            "Simulação 69000 concluída com sucesso!\n",
            "Simulação 70000 concluída com sucesso!\n",
            "Simulação 71000 concluída com sucesso!\n",
            "Simulação 72000 concluída com sucesso!\n",
            "Simulação 73000 concluída com sucesso!\n",
            "Simulação 74000 concluída com sucesso!\n",
            "Simulação 75000 concluída com sucesso!\n",
            "Simulação 76000 concluída com sucesso!\n",
            "Simulação 77000 concluída com sucesso!\n",
            "Simulação 78000 concluída com sucesso!\n",
            "Simulação 79000 concluída com sucesso!\n",
            "Simulação 80000 concluída com sucesso!\n",
            "Simulação 81000 concluída com sucesso!\n",
            "Simulação 82000 concluída com sucesso!\n",
            "Simulação 83000 concluída com sucesso!\n",
            "Simulação 84000 concluída com sucesso!\n",
            "Simulação 85000 concluída com sucesso!\n",
            "Simulação 86000 concluída com sucesso!\n",
            "Simulação 87000 concluída com sucesso!\n",
            "Simulação 88000 concluída com sucesso!\n",
            "Simulação 89000 concluída com sucesso!\n",
            "Simulação 90000 concluída com sucesso!\n",
            "Simulação 91000 concluída com sucesso!\n",
            "Simulação 92000 concluída com sucesso!\n",
            "Simulação 93000 concluída com sucesso!\n",
            "Simulação 94000 concluída com sucesso!\n",
            "Simulação 95000 concluída com sucesso!\n",
            "Simulação 96000 concluída com sucesso!\n",
            "Simulação 97000 concluída com sucesso!\n",
            "Simulação 98000 concluída com sucesso!\n",
            "Simulação 99000 concluída com sucesso!\n",
            "Simulação 100000 concluída com sucesso!\n"
          ]
        }
      ],
      "source": [
        "# parâmetros da simulação\n",
        "cromos_por_envelope = 5\n",
        "precc_envelope = 4\n",
        "album_completo = 670\n",
        "resultados = list() # lista armazena número de figurinhas únicas que cada felipe neto obteve\n",
        "nReps = 100_000 # simula 100 mil felipes netos\n",
        "pacotes_comprados = 270 # número fixo de pacotes que cada felipe neto da simulação comprou\n",
        "\n",
        "# laço for: percorre cada um dos felipes netos\n",
        "for colecionador in range(nReps):\n",
        "    \n",
        "    # inicializa variáveis\n",
        "    figurinhas = list() # todas as figurinhas compradas até o momento\n",
        "\n",
        "    # laço for aninhado ao laço for anterior:\n",
        "    # percorre cada um dos 270 pacotes comprados por cada um dos felipes netos\n",
        "    for compra in range(pacotes_comprados):\n",
        "        \n",
        "        # simulações principais\n",
        "        figurinhas.extend(random.sample(list(range(1, album_completo + 1)), k = 5))     \n",
        "\n",
        "    # salva o número de figurinhas inéditas de cada felipe neto                  \n",
        "    resultados.append(len(list(set(figurinhas))))\n",
        "    \n",
        "    # monitora quantas tentativas da simulação já ocorreram\n",
        "    if (colecionador + 1) % 1000 == 0:\n",
        "        print(f\"Simulação {colecionador + 1} concluída com sucesso!\")"
      ]
    },
    {
      "cell_type": "code",
      "source": [
        "resultados[:10]"
      ],
      "metadata": {
        "colab": {
          "base_uri": "https://localhost:8080/"
        },
        "id": "SbS75qHELl1y",
        "outputId": "f197679a-21b8-4fd9-ceee-467f64179463"
      },
      "id": "SbS75qHELl1y",
      "execution_count": 34,
      "outputs": [
        {
          "output_type": "execute_result",
          "data": {
            "text/plain": [
              "[579, 586, 577, 588, 584, 581, 588, 568, 594, 583]"
            ]
          },
          "metadata": {},
          "execution_count": 34
        }
      ]
    },
    {
      "cell_type": "code",
      "execution_count": 35,
      "id": "50de2a4d",
      "metadata": {
        "colab": {
          "base_uri": "https://localhost:8080/",
          "height": 282
        },
        "id": "50de2a4d",
        "outputId": "fa8e9abc-78c6-4763-d2d3-4725451d95e7"
      },
      "outputs": [
        {
          "output_type": "display_data",
          "data": {
            "text/plain": [
              "<Figure size 432x288 with 1 Axes>"
            ],
            "image/png": "[encoded data removed]"
          },
          "metadata": {}
        }
      ],
      "source": [
        "plt.style.use(\"ggplot\")\n",
        "plt.hist(resultados, bins = 30, alpha = 0.8, color = \"green\", histtype = 'bar', ec = 'black')\n",
        "plt.xlabel(\"Número de Cromos Únicos\", fontsize = 12, fontweight = \"bold\")\n",
        "plt.ylabel(\"Frequência\", fontsize = 12, fontweight = \"bold\")\n",
        "plt.show()"
      ]
    },
    {
      "cell_type": "code",
      "execution_count": 37,
      "id": "4ef7d97f",
      "metadata": {
        "colab": {
          "base_uri": "https://localhost:8080/"
        },
        "id": "4ef7d97f",
        "outputId": "9bfaf1a7-c992-4227-906f-d06246539769"
      },
      "outputs": [
        {
          "output_type": "stream",
          "name": "stdout",
          "text": [
            "Média: 581.31 (86.76%) das figurinhas do álbum.\n",
            "Mediana: 581.00 (86.72%) das figurinhas do álbum.\n",
            "Desvio-padrão: 7.28 das figurinhas do álbum.\n",
            "Mínimo: 545.00 (81.34%) das figurinhas do álbum.\n",
            "Máximo: 612.00 (91.34%) das figurinhas do álbum.\n"
          ]
        }
      ],
      "source": [
        "print(f\"Média: {np.mean(resultados):.2f} ({np.mean(resultados) / album_completo * 100:.2f}%) das figurinhas do álbum.\")\n",
        "print(f\"Mediana: {np.median(resultados):.2f} ({np.median(resultados) / album_completo * 100:.2f}%) das figurinhas do álbum.\")\n",
        "print(f\"Desvio-padrão: {np.std(resultados):.2f} das figurinhas do álbum.\")\n",
        "print(f\"Mínimo: {np.min(resultados):.2f} ({np.min(resultados) / album_completo * 100:.2f}%) das figurinhas do álbum.\")\n",
        "print(f\"Máximo: {np.max(resultados):.2f} ({np.max(resultados) / album_completo * 100:.2f}%) das figurinhas do álbum.\")"
      ]
    },
    {
      "cell_type": "code",
      "execution_count": null,
      "id": "b197f677",
      "metadata": {
        "id": "b197f677"
      },
      "outputs": [],
      "source": [
        "# Simulação de 100 mil Felipes Netos que compram 270 pacotes de figurinhas\n",
        "# https://g1.globo.com/rj/rio-de-janeiro/noticia/2022/08/25/felipe-neto-diz-ter-gasto-r-1080-reais-em-figurinhas-da-copa-e-completa-album-em-uma-noite.ghtml\n",
        "# O que eu quero saber?\n",
        "# Qual é o MENOR número de figurinhas que um desses Felipes Netos conseguirá?\n",
        "# Qual é o MAIOR número de figurinhas que um desses Felipes Netos conseguirá?\n",
        "# Qual é o número médio de figurinhas esses Felipes Netos conseguirão?\n",
        "# Como é a distribuição do número de figurinhas únicas que esses Felipes Netos obterão?\n",
        "\n",
        "# Pressupostos:\n",
        "# 1. Todas as 670 figurinhas são equipropráveis de saírem em um pacote.\n",
        "# 2. Não saem figurinhas repetidas em um mesmo pacote. \n",
        "# 3. Cada Felipe Neto tenta completar o álbum sem trocar figurinhas com outras pessoas.\n",
        "\n",
        "# Interpretação:\n",
        "# 1. Dados os pressupostos, é praticamente impossível completar o álbum comprando apenas 270 pacotes!\n",
        "# 2. No entanto, Felipe Neto alega ter completado o álbum com apenas 270 pacotes.\n",
        "# 2.1. O cenário improvável em (1), mas não impossível, aconteceu com Felipe Neto.\n",
        "# 2.2. Os meus pressupostos estão incorretos.\n",
        "# 2.3. Faltam informações sobre o verdadeiro procedimento adotado pelo youtuber."
      ]
    }
  ],
  "metadata": {
    "kernelspec": {
      "display_name": "Python 3 (ipykernel)",
      "language": "python",
      "name": "python3"
    },
    "language_info": {
      "codemirror_mode": {
        "name": "ipython",
        "version": 3
      },
      "file_extension": ".py",
      "mimetype": "text/x-python",
      "name": "python",
      "nbconvert_exporter": "python",
      "pygments_lexer": "ipython3",
      "version": "3.9.7"
    },
    "colab": {
      "name": "Álbum da Copa.ipynb",
      "provenance": [],
      "collapsed_sections": []
    }
  },
  "nbformat": 4,
  "nbformat_minor": 5
}