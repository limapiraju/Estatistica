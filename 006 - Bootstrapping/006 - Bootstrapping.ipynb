{
 "cells": [
  {
   "cell_type": "markdown",
   "metadata": {},
   "source": [
    "Neste tutorial, vamos tentar entender a lógica subjacente à inferência por reamostragem *bootstrapping*. Trata-se de uma apresentação muito introdutória."
   ]
  },
  {
   "cell_type": "code",
   "execution_count": 1,
   "metadata": {},
   "outputs": [],
   "source": [
    "import numpy as np\n",
    "import matplotlib.pyplot as plt"
   ]
  },
  {
   "cell_type": "markdown",
   "metadata": {},
   "source": [
    "Cria parâmetros de uma distribuição de escores em um teste de inteligência\n",
    "\n",
    "**escores ~ *N*(100, 15)**"
   ]
  },
  {
   "cell_type": "code",
   "execution_count": 8,
   "metadata": {},
   "outputs": [
    {
     "name": "stdout",
     "output_type": "stream",
     "text": [
      "[124.36518045  90.8236538   92.07742372  83.90547067 112.98111444\n",
      "  65.47691955 126.17217646  88.58189649 104.78558644  96.25944437\n",
      " 121.93161906  69.09788936  95.16374194  94.23918468 117.00654164]\n",
      "Média: 98.858\n",
      "DP: 18.211\n"
     ]
    }
   ],
   "source": [
    "# parâmetros da distribuição\n",
    "media = 100\n",
    "dp = 15\n",
    "tamanho_amostral = 15\n",
    "\n",
    "# definindo uma semente para replicabilidade\n",
    "np.random.seed(1)\n",
    "\n",
    "amostra = np.random.normal(100, 15, size = tamanho_amostral)\n",
    "\n",
    "# imprime escores da amostra, média e desvio padrão\n",
    "print(amostra)\n",
    "print(f\"Média: {np.mean(amostra):.3f}\")\n",
    "print(f\"DP: {np.std(amostra):.3f}\")"
   ]
  },
  {
   "cell_type": "markdown",
   "metadata": {},
   "source": [
    "Vamos ver a distribuição dessa amostra"
   ]
  },
  {
   "cell_type": "code",
   "execution_count": 9,
   "metadata": {},
   "outputs": [
    {
     "data": {
      "image/png": "[encoded data removed]",
      "text/plain": [
       "<Figure size 432x288 with 1 Axes>"
      ]
     },
     "metadata": {
      "needs_background": "light"
     },
     "output_type": "display_data"
    }
   ],
   "source": [
    "plt.hist(amostra, color = \"pink\")\n",
    "plt.title(\"Distribuição Amostral\", fontsize = 20)\n",
    "plt.xlabel(\"QI\", fontsize = 16)\n",
    "plt.ylabel(\"Frequência\", fontsize = 16)\n",
    "\n",
    "plt.savefig('006 - Bootstrapping.jpg', dpi = 600, bbox_inches = \"tight\")\n",
    "\n",
    "plt.show()"
   ]
  },
  {
   "cell_type": "markdown",
   "metadata": {},
   "source": [
    "a distribuição acima é toda estranha. Agora, vamos tratar a nossa amostra de 15 participantes como uma **minipopulação**. A partir dela, extraíremos uma amostra de 15 casos com reposição. Em outras palavras, sortearemos aleatoriamente um participante, anotaremos seu escore, devolveremos ele para a amostra, sortearemos outro, até completarmos um tamanho amostral igual ao de nossa amostra original.\n",
    "\n",
    "Por conta desse processo probabilístico, é possível que alguns participantes não sejam representados nessa nova amostra, enquanto outros podem ser representados 2 ou mais vezes. Nessa nova amostra, podemos calcular a média e guardar esse valor.\n",
    "\n",
    "Mais importante, podemos repetir esse procedimento milhares de vezes (digamos, 5 mil). Ao final, teremos 5 mil médias de amostras *bootstrap*. Vamos lá?"
   ]
  },
  {
   "cell_type": "code",
   "execution_count": 10,
   "metadata": {},
   "outputs": [
    {
     "name": "stdout",
     "output_type": "stream",
     "text": [
      "Terminamos a simulação!\n"
     ]
    }
   ],
   "source": [
    "# define o número de simulações\n",
    "n_simulacoes = 5_000 # modifique este valor, caso queira\n",
    "\n",
    "# lista armazenará as médias de cada uma das 5 mil simulações\n",
    "medias_das_amostras_bootstrap = list()\n",
    "\n",
    "# realiza as n_simulacoes simulacoes\n",
    "for simulacao in range(n_simulacoes):\n",
    "    \n",
    "    # amostragem com reposição: participantes são sorteados da amostra e depois devolvidos para novo sorteio\n",
    "    amostra_bootstrap = np.random.choice(amostra, size = tamanho_amostral, replace = True) \n",
    "    \n",
    "    # salva a média da i-ésima amostra bootstrap em uma lista\n",
    "    medias_das_amostras_bootstrap.append(np.mean(amostra_bootstrap))\n",
    "    \n",
    "    \n",
    "print(\"Terminamos a simulação!\")\n"
   ]
  },
  {
   "cell_type": "markdown",
   "metadata": {},
   "source": [
    "Após terminarmos a simulação, vamos fazer isso e ver como é a distribuição dessas 5 mil médias?"
   ]
  },
  {
   "cell_type": "code",
   "execution_count": 11,
   "metadata": {},
   "outputs": [
    {
     "data": {
      "image/png": "[encoded data removed]",
      "text/plain": [
       "<Figure size 432x288 with 1 Axes>"
      ]
     },
     "metadata": {
      "needs_background": "light"
     },
     "output_type": "display_data"
    }
   ],
   "source": [
    "plt.hist(medias_das_amostras_bootstrap, color = \"pink\")\n",
    "plt.title(\"Distribuição de Médias Amostrais\\ndas Amostras Bootstrap\", fontsize = 20)\n",
    "plt.xlabel(\"QI\", fontsize = 16)\n",
    "plt.ylabel(\"Frequência\", fontsize = 16)\n",
    "plt.show()"
   ]
  },
  {
   "cell_type": "markdown",
   "metadata": {},
   "source": [
    "Note que a distribuição amostral de médias das amostras *bootstrap* tem distribuição normal, mesmo que os dados originalmente fossem todos zoados. Vamos ver a média e o DP dessa distribuição amostral de médias das amostras *bootstrap*..."
   ]
  },
  {
   "cell_type": "code",
   "execution_count": 12,
   "metadata": {},
   "outputs": [
    {
     "name": "stdout",
     "output_type": "stream",
     "text": [
      "Média: 98.815\n",
      "DP: 4.791\n"
     ]
    }
   ],
   "source": [
    "print(f\"Média: {np.mean(medias_das_amostras_bootstrap):.3f}\")\n",
    "print(f\"DP: {np.std(medias_das_amostras_bootstrap):.3f}\")\n",
    "\n",
    "# print(f\"EPM: {np.std(amostra / np.sqrt(tamanho_amostral)):.3f}\")"
   ]
  },
  {
   "cell_type": "markdown",
   "metadata": {},
   "source": [
    "Podemos usar os valores acima para calcular intervalos de confiança. Você pode se perguntar: \"mas por que não calcular ICs do jeito tradicional?\"\n",
    "\n",
    "O problema dos ICs tradicionais em nosso exemplo é que, pelo tamanho amostral ser pequeno, isso significa que a média amostral tende a variar mais de amostragem para amostragem. Isso quer dizer que há mais chances de que a média da nossa amostra, por azar, esteja mais distante da verdadeira média populacional. Os intervalos de confiança *bootstrapping*, que não se baseiam na teoria normal clássica, tendem a levar a inferências mais precisas nessas situações.\n",
    "\n",
    "Primeiro, vamos calcular o intervalo de confiança para a média populacional com base na nossa amostra."
   ]
  },
  {
   "cell_type": "code",
   "execution_count": 13,
   "metadata": {},
   "outputs": [
    {
     "name": "stdout",
     "output_type": "stream",
     "text": [
      "Intervalos de confiança da amostra\n",
      "IC 95% = [87.571, 110.145]\n"
     ]
    }
   ],
   "source": [
    "# Intervalos de confiança da amostra\n",
    "print(\"Intervalos de confiança da amostra\")\n",
    "limite_inferior = np.mean(amostra) - 1.96 * np.std(amostra) / np.sqrt(10)\n",
    "limite_superior = np.mean(amostra) + 1.96 * np.std(amostra) / np.sqrt(10)\n",
    "print(f\"IC 95% = [{limite_inferior:.3f}, {limite_superior:.3f}]\")"
   ]
  },
  {
   "cell_type": "markdown",
   "metadata": {},
   "source": [
    "Agora, vamos repetir o procedimento, mas calculando o IC *bootstrap* percentílico."
   ]
  },
  {
   "cell_type": "code",
   "execution_count": 14,
   "metadata": {
    "scrolled": true
   },
   "outputs": [
    {
     "name": "stdout",
     "output_type": "stream",
     "text": [
      "Intervalos de confiança percentílicos das amostras bootstrap\n",
      "IC 95% percentílico = [89.154, 107.831]\n"
     ]
    }
   ],
   "source": [
    "# Intervalos de confiança percentílicos das amostras bootstrap\n",
    "# produz ICs mais estreitos (i.e., mais precisos) que aqueles baseados na teoria normal\n",
    "print(\"Intervalos de confiança percentílicos das amostras bootstrap\")\n",
    "limite_inferior_boot = np.percentile(medias_das_amostras_bootstrap, q = 2.5)\n",
    "limite_superior_boot = np.percentile(medias_das_amostras_bootstrap, q = 97.5)\n",
    "print(f\"IC 95% percentílico = [{limite_inferior_boot:.3f}, {limite_superior_boot:.3f}]\")"
   ]
  }
 ],
 "metadata": {
  "kernelspec": {
   "display_name": "Python 3",
   "language": "python",
   "name": "python3"
  },
  "language_info": {
   "codemirror_mode": {
    "name": "ipython",
    "version": 3
   },
   "file_extension": ".py",
   "mimetype": "text/x-python",
   "name": "python",
   "nbconvert_exporter": "python",
   "pygments_lexer": "ipython3",
   "version": "3.8.5"
  }
 },
 "nbformat": 4,
 "nbformat_minor": 4
}
