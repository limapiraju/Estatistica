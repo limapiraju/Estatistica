{
 "cells": [
  {
   "cell_type": "markdown",
   "metadata": {
    "id": "V_f18bHtYVDs"
   },
   "source": [
    "O objetivo deste notebook é replicar parte das simulações reportadas por **Delacre, M., Lakens, D., & Leys, C. (2017). Why psychologists should by default use Welch's t-test instead of Student's t-test. *International Review of Social Psychology*, *30*(1), 92–101. https://doi.org/10.5334/irsp.82**\n",
    "\n",
    "**Autor: Marcos Lima**"
   ]
  },
  {
   "cell_type": "code",
   "execution_count": 4,
   "metadata": {
    "colab": {
     "base_uri": "https://localhost:8080/"
    },
    "executionInfo": {
     "elapsed": 49,
     "status": "ok",
     "timestamp": 1643078340203,
     "user": {
      "displayName": "Marcos Lima",
      "photoUrl": "https://lh3.googleusercontent.com/a-/AOh14GjPkqY9h8ofRUdSfF7NlRlX2qBndhrvEgGih7OPbg=s64",
      "userId": "12059436749293830667"
     },
     "user_tz": 180
    },
    "id": "px7VPuOWVV-4",
    "outputId": "89f17814-0007-44ef-e6c7-354697e60388"
   },
   "outputs": [],
   "source": [
    "# https://www.statsmodels.org/dev/generated/statsmodels.stats.weightstats.ttest_ind.html#statsmodels.stats.weightstats.ttest_ind\n",
    "\n",
    "import numpy as np\n",
    "import pandas as pd\n",
    "import matplotlib.pyplot as plt\n",
    "from statsmodels.stats.weightstats import ttest_ind"
   ]
  },
  {
   "cell_type": "markdown",
   "metadata": {
    "id": "q1yzy11rXveC"
   },
   "source": [
    "**Cenário 1: variâncias iguais (razão entre desvios padrões, SDR = 1) e Ns desiguais (n1 = 40 e n2 = 60). Simulação assume H0 verdadeira.**"
   ]
  },
  {
   "cell_type": "code",
   "execution_count": 6,
   "metadata": {
    "colab": {
     "base_uri": "https://localhost:8080/"
    },
    "executionInfo": {
     "elapsed": 394681,
     "status": "ok",
     "timestamp": 1643078734853,
     "user": {
      "displayName": "Marcos Lima",
      "photoUrl": "https://lh3.googleusercontent.com/a-/AOh14GjPkqY9h8ofRUdSfF7NlRlX2qBndhrvEgGih7OPbg=s64",
      "userId": "12059436749293830667"
     },
     "user_tz": 180
    },
    "id": "aw_BfqKlVj91",
    "outputId": "c95375b9-d0aa-46af-9a8b-1fdc30cf945a"
   },
   "outputs": [
    {
     "name": "stdout",
     "output_type": "stream",
     "text": [
      "Em 100000 simulações, 4985 (4.98%) testes t de Student foram significativos.\n",
      "Em 100000 simulações, 4974 (4.97%) testes t de Welch foram significativos.\n"
     ]
    }
   ],
   "source": [
    "# Gera uma semente\n",
    "np.random.seed(123)\n",
    "\n",
    "# Parâmetros da simulação\n",
    "mu, sigma1, sigma2, n1, n2 = 0, 2, 2, 40, 60\n",
    "SDR = sigma2 / sigma1\n",
    "alpha = 0.05\n",
    "student_erro_tipo_I = welch_erro_tipo_I = 0\n",
    "n_simulacoes = 100_000 # Delacre et al. usaram 1 mi de simulações; reduzi esse valor para 100k\n",
    "\n",
    "# Lista armazenará os valores p obtidos em cada simulação\n",
    "ps_student = list()\n",
    "ps_welch = list()\n",
    "\n",
    "# Rodando as simulações\n",
    "for simulacao in range(0, n_simulacoes):\n",
    "    # Gerando os dados de cada grupo\n",
    "    # Note que as médias dos grupos são iguais; logo, H0 é verdadeira\n",
    "    # portanto, número de resultados significativos deveria ser próximo ao alfa nominal\n",
    "    grupo1 = np.random.normal(loc = mu, scale = sigma1, size = n1)\n",
    "    grupo2 = np.random.normal(loc = mu, scale = sigma2, size = n2)\n",
    "\n",
    "    # Rodando testes t de Student e de Welch\n",
    "    t_student, p_student, gl_student = ttest_ind(grupo1, grupo2, alternative = 'two-sided', usevar = 'pooled')\n",
    "    t_welch, p_welch, gl_welch = ttest_ind(grupo1, grupo2, alternative = 'two-sided', usevar = 'unequal')\n",
    "\n",
    "    # se p do Student < alfa, então cometemos um erro do Tipo I\n",
    "    if p_student < alpha:\n",
    "        student_erro_tipo_I += 1\n",
    "    \n",
    "    # se o p do Welch < alfa, então cometemos um erro do Tipo I        \n",
    "    if p_welch < alpha:\n",
    "        welch_erro_tipo_I += 1\n",
    "\n",
    "    # guarda valores ps de cada simulação uma lista\n",
    "    ps_student.append(p_student)\n",
    "    ps_welch.append(p_welch)\n",
    "\n",
    "# Imprime a síntese dos resultados\n",
    "print(f\"Em {n_simulacoes} simulações, {student_erro_tipo_I} ({student_erro_tipo_I / n_simulacoes * 100:.2f}%) testes t de Student foram significativos.\")\n",
    "print(f\"Em {n_simulacoes} simulações, {welch_erro_tipo_I} ({welch_erro_tipo_I / n_simulacoes * 100:.2f}%) testes t de Welch foram significativos.\")\n"
   ]
  },
  {
   "cell_type": "markdown",
   "metadata": {
    "id": "NculQ561fieg"
   },
   "source": [
    "**O gráfico a seguir sintetiza as simulações do cenário 1. Não há viés nos testes t de Student e de Welch quando há homoscedasticidade. A taxa de erro do Tipo I é próxima ao valor nominal de 5%. Resultado se aproxima da Figura 3a de Delacre et al. (2017).**"
   ]
  },
  {
   "cell_type": "code",
   "execution_count": 7,
   "metadata": {
    "colab": {
     "base_uri": "https://localhost:8080/",
     "height": 330
    },
    "executionInfo": {
     "elapsed": 12263,
     "status": "ok",
     "timestamp": 1643078747078,
     "user": {
      "displayName": "Marcos Lima",
      "photoUrl": "https://lh3.googleusercontent.com/a-/AOh14GjPkqY9h8ofRUdSfF7NlRlX2qBndhrvEgGih7OPbg=s64",
      "userId": "12059436749293830667"
     },
     "user_tz": 180
    },
    "id": "HuqZFN_wa3Aa",
    "outputId": "de44aade-8f22-44f3-fe51-48e69e8c790d"
   },
   "outputs": [
    {
     "data": {
      "image/png": "[encoded data removed]",
      "text/plain": [
       "<Figure size 432x288 with 1 Axes>"
      ]
     },
     "metadata": {
      "needs_background": "light"
     },
     "output_type": "display_data"
    }
   ],
   "source": [
    "# Gerando um gráfico para os resultados da simulação anterior\n",
    "x = np.linspace(-0.05, 1.05, 1_000)\n",
    "y = np.linspace(-0.05, 1.05, 1_000)\n",
    "\n",
    "plt.scatter(np.array(ps_student), np.array(ps_welch), alpha = 0.20, s = 2)\n",
    "plt.scatter(x, y, alpha = 1, c = 'black', s = 0.25)\n",
    "\n",
    "plt.axhline(y = 0.05, linewidth = 1, color = 'r')\n",
    "plt.axvline(x = 0.05, linewidth = 1, color = 'r')\n",
    "\n",
    "plt.title(\"Cenário 1: $\\it{n}_{1}$ = 40, $\\it{n}_{2}$ = 60,\\n$\\it{SDR}$ = 1, $\\it{H}_{0}$ verdadeira\", fontsize = 16)\n",
    "plt.xlabel('Valores $\\it{p}$ do teste $\\it{t}$ de Student', fontsize = 14)\n",
    "plt.ylabel('Valores $\\it{p}$ do teste $\\it{t}$ de Welch', fontsize = 14)\n",
    "plt.xlim([-0.05, 1.05])\n",
    "plt.ylim([-0.05, 1.05])\n",
    "\n",
    "plt.savefig('002 - Delacre et al. (2017), Figura 3a.jpg', dpi = 600, bbox_inches = \"tight\")\n",
    "\n",
    "plt.show()"
   ]
  },
  {
   "cell_type": "markdown",
   "metadata": {
    "id": "wIVbyUfWdevy"
   },
   "source": [
    "**Cenário 2: variâncias desiguais (razão entre desvios padrões, SDR = 2) e Ns iguais (n1 = 50 e n2 = 50). Simulação assume H0 verdadeira.**"
   ]
  },
  {
   "cell_type": "code",
   "execution_count": 8,
   "metadata": {
    "colab": {
     "base_uri": "https://localhost:8080/"
    },
    "executionInfo": {
     "elapsed": 387944,
     "status": "ok",
     "timestamp": 1643079134994,
     "user": {
      "displayName": "Marcos Lima",
      "photoUrl": "https://lh3.googleusercontent.com/a-/AOh14GjPkqY9h8ofRUdSfF7NlRlX2qBndhrvEgGih7OPbg=s64",
      "userId": "12059436749293830667"
     },
     "user_tz": 180
    },
    "id": "jy6o6YZrdeIi",
    "outputId": "a8999070-1e34-4b0d-df29-56295c2dfcdc"
   },
   "outputs": [
    {
     "name": "stdout",
     "output_type": "stream",
     "text": [
      "Em 100000 simulações, 5110 (5.11%) testes t de Student foram significativos.\n",
      "Em 100000 simulações, 5016 (5.02%) testes t de Welch foram significativos.\n"
     ]
    }
   ],
   "source": [
    "# Parâmetros da simulação\n",
    "mu, sigma1, sigma2, n1, n2 = 0, 2, 4, 50, 50\n",
    "SDR = sigma2 / sigma1\n",
    "alpha = 0.05\n",
    "student_erro_tipo_I = welch_erro_tipo_I = 0\n",
    "n_simulacoes = 100_000 # Delacre et al. usaram 1 mi de simulações; reduzi esse valor para 100k\n",
    "\n",
    "# Lista armazenará os valores p\n",
    "ps_student = list()\n",
    "ps_welch = list()\n",
    "\n",
    "# Rodando as simulações\n",
    "for simulacao in range(0, n_simulacoes):\n",
    "    # Gerando os dados de cada grupo\n",
    "    # Note que as médias dos grupos são iguais; logo, H0 é verdadeira\n",
    "    # portanto, número de resultados significativos deveria ser próximo ao alfa nominal\n",
    "    grupo1 = np.random.normal(loc = mu, scale = sigma1, size = n1)\n",
    "    grupo2 = np.random.normal(loc = mu, scale = sigma2, size = n2)\n",
    "\n",
    "    # Rodando testes t de Student e de Welch\n",
    "    t_student, p_student, gl_student = ttest_ind(grupo1, grupo2, alternative = 'two-sided', usevar = 'pooled')\n",
    "    t_welch, p_welch, gl_welch = ttest_ind(grupo1, grupo2, alternative = 'two-sided', usevar = 'unequal')\n",
    "\n",
    "    # se p do Student < alfa, então cometemos um erro do Tipo I\n",
    "    if p_student < alpha:\n",
    "        student_erro_tipo_I += 1\n",
    "    \n",
    "    # se o p do Welch < alfa, então cometemos um erro do Tipo I        \n",
    "    if p_welch < alpha:\n",
    "        welch_erro_tipo_I += 1\n",
    "\n",
    "    # guarda valores ps de cada simulação uma lista\n",
    "    ps_student.append(p_student)\n",
    "    ps_welch.append(p_welch)\n",
    "\n",
    "# Imprime a síntese dos resultados\n",
    "print(f\"Em {n_simulacoes} simulações, {student_erro_tipo_I} ({student_erro_tipo_I / n_simulacoes * 100:.2f}%) testes t de Student foram significativos.\")\n",
    "print(f\"Em {n_simulacoes} simulações, {welch_erro_tipo_I} ({welch_erro_tipo_I / n_simulacoes * 100:.2f}%) testes t de Welch foram significativos.\")\n"
   ]
  },
  {
   "cell_type": "markdown",
   "metadata": {
    "id": "AB2oFfm5irWc"
   },
   "source": [
    "**O gráfico a seguir sintetiza as simulações do cenário 2. Não há viés nos testes t de Student e de Welch quando há heteroscedasticidade (SDR = 2), mas Ns iguais. A taxa de erro do Tipo I é próxima ao valor nominal de 5%. Resultado se aproxima da Figura 3b de Delacre et al. (2017).**"
   ]
  },
  {
   "cell_type": "code",
   "execution_count": 9,
   "metadata": {
    "colab": {
     "base_uri": "https://localhost:8080/",
     "height": 330
    },
    "executionInfo": {
     "elapsed": 11481,
     "status": "ok",
     "timestamp": 1643079146450,
     "user": {
      "displayName": "Marcos Lima",
      "photoUrl": "https://lh3.googleusercontent.com/a-/AOh14GjPkqY9h8ofRUdSfF7NlRlX2qBndhrvEgGih7OPbg=s64",
      "userId": "12059436749293830667"
     },
     "user_tz": 180
    },
    "id": "qxb_mR2xd-wx",
    "outputId": "6ce5cd3f-30f0-463e-c144-6a6d741b0730"
   },
   "outputs": [
    {
     "data": {
      "image/png": "[encoded data removed]",
      "text/plain": [
       "<Figure size 432x288 with 1 Axes>"
      ]
     },
     "metadata": {
      "needs_background": "light"
     },
     "output_type": "display_data"
    }
   ],
   "source": [
    "# Gerando um gráfico para os resultados da simulação anterior\n",
    "x = np.linspace(-0.05, 1.05, 1_000)\n",
    "y = np.linspace(-0.05, 1.05, 1_000)\n",
    "\n",
    "plt.scatter(np.array(ps_student), np.array(ps_welch), alpha = 0.20, s = 2)\n",
    "plt.scatter(x, y, alpha = 1, c = 'black', s = 0.25)\n",
    "\n",
    "plt.axhline(y = 0.05, linewidth = 1, color = 'r')\n",
    "plt.axvline(x = 0.05, linewidth = 1, color = 'r')\n",
    "\n",
    "plt.title(\"Cenário 1: $\\it{n}_{1}$ = 50, $\\it{n}_{2}$ = 50,\\n$\\it{SDR}$ = 2, $\\it{H}_{0}$ verdadeira\", fontsize = 16)\n",
    "plt.xlabel('Valores $\\it{p}$ do teste $\\it{t}$ de Student', fontsize = 14)\n",
    "plt.ylabel('Valores $\\it{p}$ do teste $\\it{t}$ de Welch', fontsize = 14)\n",
    "plt.xlim([-0.05, 1.05])\n",
    "plt.ylim([-0.05, 1.05])\n",
    "\n",
    "plt.savefig('002 - Delacre et al. (2017), Figura 3b.jpg', dpi = 600, bbox_inches = \"tight\")\n",
    "\n",
    "plt.show()"
   ]
  },
  {
   "cell_type": "markdown",
   "metadata": {
    "id": "vT5JQWAUi5ti"
   },
   "source": [
    "**Cenário 3: variâncias desiguais (razão entre desvios padrões, SDR = 2) e Ns desiguais (n1 = 40 e n2 = 60), sendo que a variância maior é a do grupo maior. Simulação assume H0 verdadeira.**"
   ]
  },
  {
   "cell_type": "code",
   "execution_count": 10,
   "metadata": {
    "colab": {
     "background_save": true
    },
    "id": "sGKKKIl9jA7E"
   },
   "outputs": [
    {
     "name": "stdout",
     "output_type": "stream",
     "text": [
      "Em 100000 simulações, 2773 (2.77%) testes t de Student foram significativos.\n",
      "Em 100000 simulações, 4998 (5.00%) testes t de Welch foram significativos.\n"
     ]
    }
   ],
   "source": [
    "# Parâmetros da simulação\n",
    "mu, sigma1, sigma2, n1, n2 = 0, 2, 4, 40, 60\n",
    "SDR = sigma2 / sigma1\n",
    "alpha = 0.05\n",
    "student_erro_tipo_I = welch_erro_tipo_I = 0\n",
    "n_simulacoes = 100_000 # Delacre et al. usaram 1 mi de simulações; reduzi esse valor para 100k\n",
    "\n",
    "# Lista armazenará os valores p\n",
    "ps_student = list()\n",
    "ps_welch = list()\n",
    "\n",
    "# Rodando as simulações\n",
    "for simulacao in range(0, n_simulacoes):\n",
    "    # Gerando os dados de cada grupo\n",
    "    # Note que as médias dos grupos são iguais; logo, H0 é verdadeira\n",
    "    # portanto, número de resultados significativos deveria ser próximo ao alfa nominal\n",
    "    grupo1 = np.random.normal(loc = mu, scale = sigma1, size = n1)\n",
    "    grupo2 = np.random.normal(loc = mu, scale = sigma2, size = n2)\n",
    "\n",
    "    # Rodando testes t de Student e de Welch\n",
    "    t_student, p_student, gl_student = ttest_ind(grupo1, grupo2, alternative = 'two-sided', usevar = 'pooled')\n",
    "    t_welch, p_welch, gl_welch = ttest_ind(grupo1, grupo2, alternative = 'two-sided', usevar = 'unequal')\n",
    "\n",
    "    # se p do Student < alfa, então cometemos um erro do Tipo I\n",
    "    if p_student < alpha:\n",
    "        student_erro_tipo_I += 1\n",
    "    \n",
    "    # se o p do Welch < alfa, então cometemos um erro do Tipo I        \n",
    "    if p_welch < alpha:\n",
    "        welch_erro_tipo_I += 1\n",
    "\n",
    "    # guarda valores ps de cada simulação uma lista\n",
    "    ps_student.append(p_student)\n",
    "    ps_welch.append(p_welch)\n",
    "\n",
    "# Imprime a síntese dos resultados\n",
    "print(f\"Em {n_simulacoes} simulações, {student_erro_tipo_I} ({student_erro_tipo_I / n_simulacoes * 100:.2f}%) testes t de Student foram significativos.\")\n",
    "print(f\"Em {n_simulacoes} simulações, {welch_erro_tipo_I} ({welch_erro_tipo_I / n_simulacoes * 100:.2f}%) testes t de Welch foram significativos.\")"
   ]
  },
  {
   "cell_type": "markdown",
   "metadata": {
    "id": "gY6ntbe5jM3Q"
   },
   "source": [
    "**O gráfico a seguir sintetiza as simulações do cenário 3. Não há viés no teste t de Welch quando há heteroscedasticidade (SDR = 2) e Ns desiguais (grupo com maior variância é aquele com maior N). No entanto, a taxa de erro do Tipo I do teste t de Student é *MENOR* que o valor nominal de 5%, aproximando-se, no caso da simulação anterior, de 2,77%. Resultado se aproxima da Figura 3c de Delacre et al. (2017).**"
   ]
  },
  {
   "cell_type": "code",
   "execution_count": 11,
   "metadata": {
    "colab": {
     "background_save": true
    },
    "id": "WN_64_vwjJm5"
   },
   "outputs": [
    {
     "data": {
      "image/png": "[encoded data removed]",
      "text/plain": [
       "<Figure size 432x288 with 1 Axes>"
      ]
     },
     "metadata": {
      "needs_background": "light"
     },
     "output_type": "display_data"
    }
   ],
   "source": [
    "# Gerando um gráfico para os resultados da simulação anterior\n",
    "x = np.linspace(-0.05, 1.05, 1_000)\n",
    "y = np.linspace(-0.05, 1.05, 1_000)\n",
    "\n",
    "plt.scatter(np.array(ps_student), np.array(ps_welch), alpha = 0.20, s = 2)\n",
    "plt.scatter(x, y, alpha = 1, c = 'black', s = 0.25)\n",
    "\n",
    "plt.axhline(y = 0.05, linewidth = 1, color = 'r')\n",
    "plt.axvline(x = 0.05, linewidth = 1, color = 'r')\n",
    "\n",
    "plt.title(\"Cenário 1: $\\it{n}_{1}$ = 40, $\\it{n}_{2}$ = 60,\\n$\\it{SDR}$ = 2, $\\it{H}_{0}$ verdadeira\", fontsize = 16)\n",
    "plt.xlabel('Valores $\\it{p}$ do teste $\\it{t}$ de Student', fontsize = 14)\n",
    "plt.ylabel('Valores $\\it{p}$ do teste $\\it{t}$ de Welch', fontsize = 14)\n",
    "plt.xlim([-0.05, 1.05])\n",
    "plt.ylim([-0.05, 1.05])\n",
    "\n",
    "plt.savefig('002 - Delacre et al. (2017), Figura 3c.jpg', dpi = 600, bbox_inches = \"tight\")\n",
    "\n",
    "plt.show()"
   ]
  },
  {
   "cell_type": "markdown",
   "metadata": {
    "id": "ibSDedQTk3Ac"
   },
   "source": [
    "**Cenário 4: variâncias desiguais (razão entre desvios padrões, SDR = 0.5) e Ns desiguais (n1 = 40 e n2 = 60), sendo que a variância maior é a do grupo menor. Simulação assume H0 verdadeira.**"
   ]
  },
  {
   "cell_type": "code",
   "execution_count": 12,
   "metadata": {
    "colab": {
     "background_save": true
    },
    "id": "xdPZNFtplCkL"
   },
   "outputs": [
    {
     "name": "stdout",
     "output_type": "stream",
     "text": [
      "Em 100000 simulações, 8449 (8.45%) testes t de Student foram significativos.\n",
      "Em 100000 simulações, 5062 (5.06%) testes t de Welch foram significativos.\n"
     ]
    }
   ],
   "source": [
    "# Parâmetros da simulação\n",
    "mu, sigma1, sigma2, n1, n2 = 0, 2, 1, 40, 60\n",
    "SDR = sigma2 / sigma1\n",
    "alpha = 0.05\n",
    "student_erro_tipo_I = welch_erro_tipo_I = 0\n",
    "n_simulacoes = 100_000 # Delacre et al. usaram 1 mi de simulações; reduzi esse valor para 100k\n",
    "\n",
    "# Lista armazenará os valores p\n",
    "ps_student = list()\n",
    "ps_welch = list()\n",
    "\n",
    "# Rodando as simulações\n",
    "for simulacao in range(0, n_simulacoes):\n",
    "    # Gerando os dados de cada grupo\n",
    "    # Note que as médias dos grupos são iguais; logo, H0 é verdadeira\n",
    "    # portanto, número de resultados significativos deveria ser próximo ao alfa nominal\n",
    "    grupo1 = np.random.normal(loc = mu, scale = sigma1, size = n1)\n",
    "    grupo2 = np.random.normal(loc = mu, scale = sigma2, size = n2)\n",
    "\n",
    "    # Rodando testes t de Student e de Welch\n",
    "    t_student, p_student, gl_student = ttest_ind(grupo1, grupo2, alternative = 'two-sided', usevar = 'pooled')\n",
    "    t_welch, p_welch, gl_welch = ttest_ind(grupo1, grupo2, alternative = 'two-sided', usevar = 'unequal')\n",
    "\n",
    "    # se p do Student < alfa, então cometemos um erro do Tipo I\n",
    "    if p_student < alpha:\n",
    "        student_erro_tipo_I += 1\n",
    "    \n",
    "    # se o p do Welch < alfa, então cometemos um erro do Tipo I        \n",
    "    if p_welch < alpha:\n",
    "        welch_erro_tipo_I += 1\n",
    "\n",
    "    # guarda valores ps de cada simulação uma lista\n",
    "    ps_student.append(p_student)\n",
    "    ps_welch.append(p_welch)\n",
    "\n",
    "# Imprime a síntese dos resultados\n",
    "print(f\"Em {n_simulacoes} simulações, {student_erro_tipo_I} ({student_erro_tipo_I / n_simulacoes * 100:.2f}%) testes t de Student foram significativos.\")\n",
    "print(f\"Em {n_simulacoes} simulações, {welch_erro_tipo_I} ({welch_erro_tipo_I / n_simulacoes * 100:.2f}%) testes t de Welch foram significativos.\")"
   ]
  },
  {
   "cell_type": "markdown",
   "metadata": {
    "id": "A550GMOalICP"
   },
   "source": [
    "**O gráfico a seguir sintetiza as simulações do cenário 4. Não há viés no teste t de Welch quando há heteroscedasticidade (SDR = 0.5) e Ns desiguais (grupo com maior variância é aquele que tem o maior N). No entanto, a taxa de erro do Tipo I do teste t de Student é *MAIOR* que o valor nominal de 5%, aproximando-se, no caso da simulação anterior, de 8,30%. Resultado se aproxima da Figura 3d de Delacre et al. (2017).**"
   ]
  },
  {
   "cell_type": "code",
   "execution_count": 13,
   "metadata": {
    "id": "_76v1nXxlfGI"
   },
   "outputs": [
    {
     "data": {
      "image/png": "[encoded data removed]",
      "text/plain": [
       "<Figure size 432x288 with 1 Axes>"
      ]
     },
     "metadata": {
      "needs_background": "light"
     },
     "output_type": "display_data"
    }
   ],
   "source": [
    "# Gerando um gráfico para os resultados da simulação anterior\n",
    "x = np.linspace(-0.05, 1.05, 1_000)\n",
    "y = np.linspace(-0.05, 1.05, 1_000)\n",
    "\n",
    "plt.scatter(np.array(ps_student), np.array(ps_welch), alpha = 0.20, s = 2)\n",
    "plt.scatter(x, y, alpha = 1, c = 'black', s = 0.25)\n",
    "\n",
    "plt.axhline(y = 0.05, linewidth = 1, color = 'r')\n",
    "plt.axvline(x = 0.05, linewidth = 1, color = 'r')\n",
    "\n",
    "plt.title(\"Cenário 1: $\\it{n}_{1}$ = 40, $\\it{n}_{2}$ = 60,\\n$\\it{SDR}$ = 0.50, $\\it{H}_{0}$ verdadeira\", fontsize = 16)\n",
    "plt.xlabel('Valores $\\it{p}$ do teste $\\it{t}$ de Student', fontsize = 14)\n",
    "plt.ylabel('Valores $\\it{p}$ do teste $\\it{t}$ de Welch', fontsize = 14)\n",
    "plt.xlim([-0.05, 1.05])\n",
    "plt.ylim([-0.05, 1.05])\n",
    "\n",
    "plt.savefig('002 - Delacre et al. (2017), Figura 3d.jpg', dpi = 600, bbox_inches = \"tight\")\n",
    "\n",
    "plt.show()"
   ]
  }
 ],
 "metadata": {
  "colab": {
   "authorship_tag": "ABX9TyNIhrmAu3vrBnYVfVMVF2LN",
   "collapsed_sections": [],
   "mount_file_id": "1J-Akv8OdkplnMuzhAX9B9LEaD5x1A5xT",
   "name": "002 - Taxas de erro do Tipo I nos testes t de Student e de Welch.ipynb",
   "version": ""
  },
  "kernelspec": {
   "display_name": "Python 3",
   "language": "python",
   "name": "python3"
  },
  "language_info": {
   "codemirror_mode": {
    "name": "ipython",
    "version": 3
   },
   "file_extension": ".py",
   "mimetype": "text/x-python",
   "name": "python",
   "nbconvert_exporter": "python",
   "pygments_lexer": "ipython3",
   "version": "3.8.5"
  }
 },
 "nbformat": 4,
 "nbformat_minor": 1
}
