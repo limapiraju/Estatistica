{
 "cells": [
  {
   "cell_type": "code",
   "execution_count": 43,
   "id": "d5149a05",
   "metadata": {},
   "outputs": [],
   "source": [
    "import numpy as np\n",
    "import pandas as pd\n",
    "import matplotlib.pyplot as plt\n",
    "import seaborn as sns\n",
    "import statsmodels\n",
    "import statsmodels.api as sm\n",
    "import statsmodels.formula.api as smf\n",
    "from sklearn.model_selection import train_test_split, KFold, cross_val_score\n",
    "from sklearn.linear_model import LinearRegression\n",
    "from scipy import stats\n",
    "from patsy import dmatrices"
   ]
  },
  {
   "cell_type": "code",
   "execution_count": 4,
   "id": "2e56b5e5",
   "metadata": {},
   "outputs": [
    {
     "data": {
      "text/html": [
       "<div>\n",
       "<style scoped>\n",
       "    .dataframe tbody tr th:only-of-type {\n",
       "        vertical-align: middle;\n",
       "    }\n",
       "\n",
       "    .dataframe tbody tr th {\n",
       "        vertical-align: top;\n",
       "    }\n",
       "\n",
       "    .dataframe thead th {\n",
       "        text-align: right;\n",
       "    }\n",
       "</style>\n",
       "<table border=\"1\" class=\"dataframe\">\n",
       "  <thead>\n",
       "    <tr style=\"text-align: right;\">\n",
       "      <th></th>\n",
       "      <th>neighborhood</th>\n",
       "      <th>type</th>\n",
       "      <th>units</th>\n",
       "      <th>year_built</th>\n",
       "      <th>sq_ft</th>\n",
       "      <th>income</th>\n",
       "      <th>income_per_sq_ft</th>\n",
       "      <th>expense</th>\n",
       "      <th>expense_per_sq_ft</th>\n",
       "      <th>net_income</th>\n",
       "      <th>value</th>\n",
       "      <th>value_per_sq_ft</th>\n",
       "      <th>boro</th>\n",
       "    </tr>\n",
       "  </thead>\n",
       "  <tbody>\n",
       "    <tr>\n",
       "      <th>0</th>\n",
       "      <td>FINANCIAL</td>\n",
       "      <td>R9-CONDOMINIUM</td>\n",
       "      <td>42</td>\n",
       "      <td>1920.0</td>\n",
       "      <td>36500</td>\n",
       "      <td>1332615</td>\n",
       "      <td>36.51</td>\n",
       "      <td>342005</td>\n",
       "      <td>9.37</td>\n",
       "      <td>990610</td>\n",
       "      <td>7300000</td>\n",
       "      <td>200.00</td>\n",
       "      <td>Manhattan</td>\n",
       "    </tr>\n",
       "    <tr>\n",
       "      <th>1</th>\n",
       "      <td>FINANCIAL</td>\n",
       "      <td>R4-CONDOMINIUM</td>\n",
       "      <td>78</td>\n",
       "      <td>1985.0</td>\n",
       "      <td>126420</td>\n",
       "      <td>6633257</td>\n",
       "      <td>52.47</td>\n",
       "      <td>1762295</td>\n",
       "      <td>13.94</td>\n",
       "      <td>4870962</td>\n",
       "      <td>30690000</td>\n",
       "      <td>242.76</td>\n",
       "      <td>Manhattan</td>\n",
       "    </tr>\n",
       "    <tr>\n",
       "      <th>2</th>\n",
       "      <td>FINANCIAL</td>\n",
       "      <td>RR-CONDOMINIUM</td>\n",
       "      <td>500</td>\n",
       "      <td>NaN</td>\n",
       "      <td>554174</td>\n",
       "      <td>17310000</td>\n",
       "      <td>31.24</td>\n",
       "      <td>3543000</td>\n",
       "      <td>6.39</td>\n",
       "      <td>13767000</td>\n",
       "      <td>90970000</td>\n",
       "      <td>164.15</td>\n",
       "      <td>Manhattan</td>\n",
       "    </tr>\n",
       "    <tr>\n",
       "      <th>3</th>\n",
       "      <td>FINANCIAL</td>\n",
       "      <td>R4-CONDOMINIUM</td>\n",
       "      <td>282</td>\n",
       "      <td>1930.0</td>\n",
       "      <td>249076</td>\n",
       "      <td>11776313</td>\n",
       "      <td>47.28</td>\n",
       "      <td>2784670</td>\n",
       "      <td>11.18</td>\n",
       "      <td>8991643</td>\n",
       "      <td>67556006</td>\n",
       "      <td>271.23</td>\n",
       "      <td>Manhattan</td>\n",
       "    </tr>\n",
       "    <tr>\n",
       "      <th>4</th>\n",
       "      <td>TRIBECA</td>\n",
       "      <td>R4-CONDOMINIUM</td>\n",
       "      <td>239</td>\n",
       "      <td>1985.0</td>\n",
       "      <td>219495</td>\n",
       "      <td>10004582</td>\n",
       "      <td>45.58</td>\n",
       "      <td>2783197</td>\n",
       "      <td>12.68</td>\n",
       "      <td>7221385</td>\n",
       "      <td>54320996</td>\n",
       "      <td>247.48</td>\n",
       "      <td>Manhattan</td>\n",
       "    </tr>\n",
       "  </tbody>\n",
       "</table>\n",
       "</div>"
      ],
      "text/plain": [
       "  neighborhood            type  units  year_built   sq_ft    income  \\\n",
       "0    FINANCIAL  R9-CONDOMINIUM     42      1920.0   36500   1332615   \n",
       "1    FINANCIAL  R4-CONDOMINIUM     78      1985.0  126420   6633257   \n",
       "2    FINANCIAL  RR-CONDOMINIUM    500         NaN  554174  17310000   \n",
       "3    FINANCIAL  R4-CONDOMINIUM    282      1930.0  249076  11776313   \n",
       "4      TRIBECA  R4-CONDOMINIUM    239      1985.0  219495  10004582   \n",
       "\n",
       "   income_per_sq_ft  expense  expense_per_sq_ft  net_income     value  \\\n",
       "0             36.51   342005               9.37      990610   7300000   \n",
       "1             52.47  1762295              13.94     4870962  30690000   \n",
       "2             31.24  3543000               6.39    13767000  90970000   \n",
       "3             47.28  2784670              11.18     8991643  67556006   \n",
       "4             45.58  2783197              12.68     7221385  54320996   \n",
       "\n",
       "   value_per_sq_ft       boro  \n",
       "0           200.00  Manhattan  \n",
       "1           242.76  Manhattan  \n",
       "2           164.15  Manhattan  \n",
       "3           271.23  Manhattan  \n",
       "4           247.48  Manhattan  "
      ]
     },
     "execution_count": 4,
     "metadata": {},
     "output_type": "execute_result"
    }
   ],
   "source": [
    "housing = pd.read_csv(\"housing_renamed.csv\")\n",
    "housing.head()"
   ]
  },
  {
   "cell_type": "code",
   "execution_count": 6,
   "id": "ed7004db",
   "metadata": {},
   "outputs": [
    {
     "data": {
      "text/html": [
       "<table class=\"simpletable\">\n",
       "<caption>Generalized Linear Model Regression Results</caption>\n",
       "<tr>\n",
       "  <th>Dep. Variable:</th>    <td>value_per_sq_ft</td> <th>  No. Observations:  </th>   <td>  2626</td>  \n",
       "</tr>\n",
       "<tr>\n",
       "  <th>Model:</th>                  <td>GLM</td>       <th>  Df Residuals:      </th>   <td>  2619</td>  \n",
       "</tr>\n",
       "<tr>\n",
       "  <th>Model Family:</th>        <td>Gaussian</td>     <th>  Df Model:          </th>   <td>     6</td>  \n",
       "</tr>\n",
       "<tr>\n",
       "  <th>Link Function:</th>       <td>identity</td>     <th>  Scale:             </th>  <td>  1879.5</td> \n",
       "</tr>\n",
       "<tr>\n",
       "  <th>Method:</th>                <td>IRLS</td>       <th>  Log-Likelihood:    </th>  <td> -13621.</td> \n",
       "</tr>\n",
       "<tr>\n",
       "  <th>Date:</th>            <td>Wed, 24 Aug 2022</td> <th>  Deviance:          </th> <td>4.9224e+06</td>\n",
       "</tr>\n",
       "<tr>\n",
       "  <th>Time:</th>                <td>15:40:08</td>     <th>  Pearson chi2:      </th>  <td>4.92e+06</td> \n",
       "</tr>\n",
       "<tr>\n",
       "  <th>No. Iterations:</th>          <td>3</td>        <th>                     </th>      <td> </td>    \n",
       "</tr>\n",
       "<tr>\n",
       "  <th>Covariance Type:</th>     <td>nonrobust</td>    <th>                     </th>      <td> </td>    \n",
       "</tr>\n",
       "</table>\n",
       "<table class=\"simpletable\">\n",
       "<tr>\n",
       "            <td></td>               <th>coef</th>     <th>std err</th>      <th>z</th>      <th>P>|z|</th>  <th>[0.025</th>    <th>0.975]</th>  \n",
       "</tr>\n",
       "<tr>\n",
       "  <th>Intercept</th>             <td>   43.2909</td> <td>    5.330</td> <td>    8.122</td> <td> 0.000</td> <td>   32.845</td> <td>   53.737</td>\n",
       "</tr>\n",
       "<tr>\n",
       "  <th>boro[T.Brooklyn]</th>      <td>   34.5621</td> <td>    5.535</td> <td>    6.244</td> <td> 0.000</td> <td>   23.714</td> <td>   45.411</td>\n",
       "</tr>\n",
       "<tr>\n",
       "  <th>boro[T.Manhattan]</th>     <td>  130.9924</td> <td>    5.385</td> <td>   24.327</td> <td> 0.000</td> <td>  120.439</td> <td>  141.546</td>\n",
       "</tr>\n",
       "<tr>\n",
       "  <th>boro[T.Queens]</th>        <td>   32.9937</td> <td>    5.663</td> <td>    5.827</td> <td> 0.000</td> <td>   21.895</td> <td>   44.092</td>\n",
       "</tr>\n",
       "<tr>\n",
       "  <th>boro[T.Staten Island]</th> <td>   -3.6303</td> <td>    9.993</td> <td>   -0.363</td> <td> 0.716</td> <td>  -23.216</td> <td>   15.956</td>\n",
       "</tr>\n",
       "<tr>\n",
       "  <th>units</th>                 <td>   -0.1881</td> <td>    0.022</td> <td>   -8.511</td> <td> 0.000</td> <td>   -0.231</td> <td>   -0.145</td>\n",
       "</tr>\n",
       "<tr>\n",
       "  <th>sq_ft</th>                 <td>    0.0002</td> <td> 2.09e-05</td> <td>   10.079</td> <td> 0.000</td> <td>    0.000</td> <td>    0.000</td>\n",
       "</tr>\n",
       "</table>"
      ],
      "text/plain": [
       "<class 'statsmodels.iolib.summary.Summary'>\n",
       "\"\"\"\n",
       "                 Generalized Linear Model Regression Results                  \n",
       "==============================================================================\n",
       "Dep. Variable:        value_per_sq_ft   No. Observations:                 2626\n",
       "Model:                            GLM   Df Residuals:                     2619\n",
       "Model Family:                Gaussian   Df Model:                            6\n",
       "Link Function:               identity   Scale:                          1879.5\n",
       "Method:                          IRLS   Log-Likelihood:                -13621.\n",
       "Date:                Wed, 24 Aug 2022   Deviance:                   4.9224e+06\n",
       "Time:                        15:40:08   Pearson chi2:                 4.92e+06\n",
       "No. Iterations:                     3                                         \n",
       "Covariance Type:            nonrobust                                         \n",
       "=========================================================================================\n",
       "                            coef    std err          z      P>|z|      [0.025      0.975]\n",
       "-----------------------------------------------------------------------------------------\n",
       "Intercept                43.2909      5.330      8.122      0.000      32.845      53.737\n",
       "boro[T.Brooklyn]         34.5621      5.535      6.244      0.000      23.714      45.411\n",
       "boro[T.Manhattan]       130.9924      5.385     24.327      0.000     120.439     141.546\n",
       "boro[T.Queens]           32.9937      5.663      5.827      0.000      21.895      44.092\n",
       "boro[T.Staten Island]    -3.6303      9.993     -0.363      0.716     -23.216      15.956\n",
       "units                    -0.1881      0.022     -8.511      0.000      -0.231      -0.145\n",
       "sq_ft                     0.0002   2.09e-05     10.079      0.000       0.000       0.000\n",
       "=========================================================================================\n",
       "\"\"\""
      ]
     },
     "execution_count": 6,
     "metadata": {},
     "output_type": "execute_result"
    }
   ],
   "source": [
    "# regressão linear múltpla com o statsmodels\n",
    "house1 = smf.glm(\"value_per_sq_ft ~ units + sq_ft + boro\",\n",
    "                data = housing).fit()\n",
    "\n",
    "house1.summary()"
   ]
  },
  {
   "cell_type": "code",
   "execution_count": 13,
   "id": "0b5a79d1",
   "metadata": {},
   "outputs": [
    {
     "data": {
      "image/png": "[encoded data removed]",
      "text/plain": [
       "<Figure size 432x288 with 1 Axes>"
      ]
     },
     "metadata": {
      "needs_background": "light"
     },
     "output_type": "display_data"
    }
   ],
   "source": [
    "fig, ax = plt.subplots()\n",
    "ax = sns.regplot(x = house1.fittedvalues,\n",
    "                y = house1.resid_deviance,\n",
    "                 fit_reg = False)\n",
    "\n",
    "plt.show()\n",
    "\n",
    "fig.savefig(\"1. resid_1.jpg\")"
   ]
  },
  {
   "cell_type": "code",
   "execution_count": 14,
   "id": "3adbfadf",
   "metadata": {},
   "outputs": [
    {
     "data": {
      "image/png": "[encoded data removed]",
      "text/plain": [
       "<Figure size 461.625x360 with 1 Axes>"
      ]
     },
     "metadata": {
      "needs_background": "light"
     },
     "output_type": "display_data"
    }
   ],
   "source": [
    "# replotando a figura anterior, mas agora separado pela variável boro\n",
    "res_df = pd.DataFrame({\n",
    "    \"fittedvalues\": house1.fittedvalues,\n",
    "    \"resid_deviance\": house1.resid_deviance,\n",
    "    \"boro\": housing[\"boro\"]})\n",
    "\n",
    "fig = sns.lmplot(x = \"fittedvalues\", y = \"resid_deviance\",\n",
    "               data = res_df, hue = \"boro\", fit_reg = False)\n",
    "\n",
    "plt.show()\n",
    "\n",
    "fig.savefig(\"2. resid_boros.jpg\")"
   ]
  },
  {
   "cell_type": "code",
   "execution_count": 15,
   "id": "42641f0e",
   "metadata": {},
   "outputs": [
    {
     "name": "stderr",
     "output_type": "stream",
     "text": [
      "C:\\Users\\User\\anaconda3\\lib\\site-packages\\statsmodels\\graphics\\gofplots.py:993: UserWarning: marker is redundantly defined by the 'marker' keyword argument and the fmt string \"bo\" (-> marker='o'). The keyword argument will take precedence.\n",
      "  ax.plot(x, y, fmt, **plot_style)\n"
     ]
    },
    {
     "data": {
      "image/png": "[encoded data removed]",
      "text/plain": [
       "<Figure size 432x288 with 1 Axes>"
      ]
     },
     "metadata": {
      "needs_background": "light"
     },
     "output_type": "display_data"
    }
   ],
   "source": [
    "# q-q plot\n",
    "resid = house1.resid_deviance.copy()\n",
    "resid_std = stats.zscore(resid) # resíduo padronizado\n",
    "\n",
    "fig = statsmodels.graphics.gofplots.qqplot(resid, line = \"r\")\n",
    "plt.show()\n",
    "\n",
    "fig.savefig(\"3. house_1_qq.jpg\")"
   ]
  },
  {
   "cell_type": "code",
   "execution_count": 16,
   "id": "74a21bb2",
   "metadata": {},
   "outputs": [
    {
     "name": "stderr",
     "output_type": "stream",
     "text": [
      "C:\\Users\\User\\anaconda3\\lib\\site-packages\\seaborn\\distributions.py:2619: FutureWarning: `distplot` is a deprecated function and will be removed in a future version. Please adapt your code to use either `displot` (a figure-level function with similar flexibility) or `histplot` (an axes-level function for histograms).\n",
      "  warnings.warn(msg, FutureWarning)\n"
     ]
    },
    {
     "data": {
      "image/png": "[encoded data removed]",
      "text/plain": [
       "<Figure size 432x288 with 1 Axes>"
      ]
     },
     "metadata": {
      "needs_background": "light"
     },
     "output_type": "display_data"
    }
   ],
   "source": [
    "fig, ax = plt.subplots()\n",
    "ax = sns.distplot(resid_std)\n",
    "plt.show()\n",
    "\n",
    "fig.savefig(\"4. house_resid_std.jpg\")"
   ]
  },
  {
   "cell_type": "code",
   "execution_count": 23,
   "id": "e874e6a9",
   "metadata": {},
   "outputs": [
    {
     "data": {
      "text/html": [
       "<div>\n",
       "<style scoped>\n",
       "    .dataframe tbody tr th:only-of-type {\n",
       "        vertical-align: middle;\n",
       "    }\n",
       "\n",
       "    .dataframe tbody tr th {\n",
       "        vertical-align: top;\n",
       "    }\n",
       "\n",
       "    .dataframe thead th {\n",
       "        text-align: right;\n",
       "    }\n",
       "</style>\n",
       "<table border=\"1\" class=\"dataframe\">\n",
       "  <thead>\n",
       "    <tr style=\"text-align: right;\">\n",
       "      <th></th>\n",
       "      <th>param</th>\n",
       "      <th>model</th>\n",
       "      <th>estimate</th>\n",
       "    </tr>\n",
       "  </thead>\n",
       "  <tbody>\n",
       "    <tr>\n",
       "      <th>0</th>\n",
       "      <td>Intercept</td>\n",
       "      <td>house1</td>\n",
       "      <td>43.290863</td>\n",
       "    </tr>\n",
       "    <tr>\n",
       "      <th>1</th>\n",
       "      <td>boro[T.Brooklyn]</td>\n",
       "      <td>house1</td>\n",
       "      <td>34.562150</td>\n",
       "    </tr>\n",
       "    <tr>\n",
       "      <th>2</th>\n",
       "      <td>boro[T.Manhattan]</td>\n",
       "      <td>house1</td>\n",
       "      <td>130.992363</td>\n",
       "    </tr>\n",
       "    <tr>\n",
       "      <th>3</th>\n",
       "      <td>boro[T.Queens]</td>\n",
       "      <td>house1</td>\n",
       "      <td>32.993674</td>\n",
       "    </tr>\n",
       "    <tr>\n",
       "      <th>4</th>\n",
       "      <td>boro[T.Staten Island]</td>\n",
       "      <td>house1</td>\n",
       "      <td>-3.630251</td>\n",
       "    </tr>\n",
       "    <tr>\n",
       "      <th>...</th>\n",
       "      <td>...</td>\n",
       "      <td>...</td>\n",
       "      <td>...</td>\n",
       "    </tr>\n",
       "    <tr>\n",
       "      <th>85</th>\n",
       "      <td>sq_ft:boro[T.Queens]</td>\n",
       "      <td>house5</td>\n",
       "      <td>NaN</td>\n",
       "    </tr>\n",
       "    <tr>\n",
       "      <th>86</th>\n",
       "      <td>sq_ft:boro[T.Staten Island]</td>\n",
       "      <td>house5</td>\n",
       "      <td>NaN</td>\n",
       "    </tr>\n",
       "    <tr>\n",
       "      <th>87</th>\n",
       "      <td>sq_ft:type[T.R4-CONDOMINIUM]</td>\n",
       "      <td>house5</td>\n",
       "      <td>NaN</td>\n",
       "    </tr>\n",
       "    <tr>\n",
       "      <th>88</th>\n",
       "      <td>sq_ft:type[T.R9-CONDOMINIUM]</td>\n",
       "      <td>house5</td>\n",
       "      <td>NaN</td>\n",
       "    </tr>\n",
       "    <tr>\n",
       "      <th>89</th>\n",
       "      <td>sq_ft:type[T.RR-CONDOMINIUM]</td>\n",
       "      <td>house5</td>\n",
       "      <td>NaN</td>\n",
       "    </tr>\n",
       "  </tbody>\n",
       "</table>\n",
       "<p>90 rows × 3 columns</p>\n",
       "</div>"
      ],
      "text/plain": [
       "                           param   model    estimate\n",
       "0                      Intercept  house1   43.290863\n",
       "1               boro[T.Brooklyn]  house1   34.562150\n",
       "2              boro[T.Manhattan]  house1  130.992363\n",
       "3                 boro[T.Queens]  house1   32.993674\n",
       "4          boro[T.Staten Island]  house1   -3.630251\n",
       "..                           ...     ...         ...\n",
       "85          sq_ft:boro[T.Queens]  house5         NaN\n",
       "86   sq_ft:boro[T.Staten Island]  house5         NaN\n",
       "87  sq_ft:type[T.R4-CONDOMINIUM]  house5         NaN\n",
       "88  sq_ft:type[T.R9-CONDOMINIUM]  house5         NaN\n",
       "89  sq_ft:type[T.RR-CONDOMINIUM]  house5         NaN\n",
       "\n",
       "[90 rows x 3 columns]"
      ]
     },
     "execution_count": 23,
     "metadata": {},
     "output_type": "execute_result"
    }
   ],
   "source": [
    "# o conjunto de dados originais de habitação tem uma coluna chamada class;\n",
    "# isso causaria um erro se usássemos \"class\"\n",
    "# porque essa é uma palavra reservada de Python;\n",
    "# a coluna foi renomeada para \"type\"\n",
    "f1 = \"value_per_sq_ft ~ units + sq_ft + boro\"\n",
    "f2 = \"value_per_sq_ft ~ units * sq_ft + boro\"\n",
    "f3 = \"value_per_sq_ft ~ units + sq_ft * boro + type\"\n",
    "f4 = \"value_per_sq_ft ~ units + sq_ft * boro + sq_ft * type\"\n",
    "f5 = \"value_per_sq_ft ~ boro + type\"\n",
    "\n",
    "house1 = smf.ols(f1, data = housing).fit()\n",
    "house2 = smf.ols(f2, data = housing).fit()\n",
    "house3 = smf.ols(f3, data = housing).fit()\n",
    "house4 = smf.ols(f4, data = housing).fit()\n",
    "house5 = smf.ols(f5, data = housing).fit()\n",
    "\n",
    "model_results = pd.concat([house1.params,\n",
    "                          house2.params,\n",
    "                          house3.params,\n",
    "                          house4.params,\n",
    "                          house5.params],\n",
    "                        axis = 1).rename(columns = \n",
    "                                         lambda x: 'house' + str(x + 1)\n",
    "                                        ).reset_index().rename(columns = \n",
    "                                                               {\"index\": \"param\"}).melt(id_vars = \"param\",\n",
    "                                                                                        var_name = \"model\",\n",
    "                                                                                        value_name = \"estimate\")\n",
    "\n",
    "model_results"
   ]
  },
  {
   "cell_type": "code",
   "execution_count": 24,
   "id": "0522771a",
   "metadata": {},
   "outputs": [
    {
     "data": {
      "image/png": "[encoded data removed]",
      "text/plain": [
       "<Figure size 432x288 with 1 Axes>"
      ]
     },
     "metadata": {
      "needs_background": "light"
     },
     "output_type": "display_data"
    }
   ],
   "source": [
    "fig, ax = plt.subplots()\n",
    "ax = sns.pointplot(x = \"estimate\",\n",
    "                  y = \"param\",\n",
    "                  hue = \"model\",\n",
    "                  data = model_results,\n",
    "                  dodge = True, # jitter nos pontos\n",
    "                  join = False) # não conecta os pontos\n",
    "\n",
    "plt.tight_layout()\n",
    "plt.show()"
   ]
  },
  {
   "cell_type": "code",
   "execution_count": 27,
   "id": "a07a8fcf",
   "metadata": {},
   "outputs": [
    {
     "data": {
      "text/html": [
       "<div>\n",
       "<style scoped>\n",
       "    .dataframe tbody tr th:only-of-type {\n",
       "        vertical-align: middle;\n",
       "    }\n",
       "\n",
       "    .dataframe tbody tr th {\n",
       "        vertical-align: top;\n",
       "    }\n",
       "\n",
       "    .dataframe thead th {\n",
       "        text-align: right;\n",
       "    }\n",
       "</style>\n",
       "<table border=\"1\" class=\"dataframe\">\n",
       "  <thead>\n",
       "    <tr style=\"text-align: right;\">\n",
       "      <th></th>\n",
       "      <th>df_resid</th>\n",
       "      <th>ssr</th>\n",
       "      <th>df_diff</th>\n",
       "      <th>ss_diff</th>\n",
       "      <th>F</th>\n",
       "      <th>Pr(&gt;F)</th>\n",
       "    </tr>\n",
       "  </thead>\n",
       "  <tbody>\n",
       "    <tr>\n",
       "      <th>house1</th>\n",
       "      <td>2619.0</td>\n",
       "      <td>4.922389e+06</td>\n",
       "      <td>0.0</td>\n",
       "      <td>NaN</td>\n",
       "      <td>NaN</td>\n",
       "      <td>NaN</td>\n",
       "    </tr>\n",
       "    <tr>\n",
       "      <th>house2</th>\n",
       "      <td>2618.0</td>\n",
       "      <td>4.884872e+06</td>\n",
       "      <td>1.0</td>\n",
       "      <td>37517.437605</td>\n",
       "      <td>20.039049</td>\n",
       "      <td>7.912333e-06</td>\n",
       "    </tr>\n",
       "    <tr>\n",
       "      <th>house3</th>\n",
       "      <td>2612.0</td>\n",
       "      <td>4.619926e+06</td>\n",
       "      <td>6.0</td>\n",
       "      <td>264945.539994</td>\n",
       "      <td>23.585728</td>\n",
       "      <td>2.754431e-27</td>\n",
       "    </tr>\n",
       "    <tr>\n",
       "      <th>house4</th>\n",
       "      <td>2609.0</td>\n",
       "      <td>4.576671e+06</td>\n",
       "      <td>3.0</td>\n",
       "      <td>43255.441192</td>\n",
       "      <td>7.701289</td>\n",
       "      <td>4.025581e-05</td>\n",
       "    </tr>\n",
       "    <tr>\n",
       "      <th>house5</th>\n",
       "      <td>2618.0</td>\n",
       "      <td>4.901463e+06</td>\n",
       "      <td>-9.0</td>\n",
       "      <td>-324791.847907</td>\n",
       "      <td>19.275539</td>\n",
       "      <td>NaN</td>\n",
       "    </tr>\n",
       "  </tbody>\n",
       "</table>\n",
       "</div>"
      ],
      "text/plain": [
       "        df_resid           ssr  df_diff        ss_diff          F  \\\n",
       "house1    2619.0  4.922389e+06      0.0            NaN        NaN   \n",
       "house2    2618.0  4.884872e+06      1.0   37517.437605  20.039049   \n",
       "house3    2612.0  4.619926e+06      6.0  264945.539994  23.585728   \n",
       "house4    2609.0  4.576671e+06      3.0   43255.441192   7.701289   \n",
       "house5    2618.0  4.901463e+06     -9.0 -324791.847907  19.275539   \n",
       "\n",
       "              Pr(>F)  \n",
       "house1           NaN  \n",
       "house2  7.912333e-06  \n",
       "house3  2.754431e-27  \n",
       "house4  4.025581e-05  \n",
       "house5           NaN  "
      ]
     },
     "execution_count": 27,
     "metadata": {},
     "output_type": "execute_result"
    }
   ],
   "source": [
    "# ANOVAs comparando modelos\n",
    "model_names = [\"house\" + str(i) for i in range(1, 6)]\n",
    "house_anova = statsmodels.stats.anova.anova_lm(house1, house2, house3, house4, house5)\n",
    "house_anova.index = model_names\n",
    "house_anova"
   ]
  },
  {
   "cell_type": "code",
   "execution_count": 31,
   "id": "493b3081",
   "metadata": {},
   "outputs": [
    {
     "data": {
      "text/html": [
       "<div>\n",
       "<style scoped>\n",
       "    .dataframe tbody tr th:only-of-type {\n",
       "        vertical-align: middle;\n",
       "    }\n",
       "\n",
       "    .dataframe tbody tr th {\n",
       "        vertical-align: top;\n",
       "    }\n",
       "\n",
       "    .dataframe thead th {\n",
       "        text-align: right;\n",
       "    }\n",
       "</style>\n",
       "<table border=\"1\" class=\"dataframe\">\n",
       "  <thead>\n",
       "    <tr style=\"text-align: right;\">\n",
       "      <th></th>\n",
       "      <th>df_residuals</th>\n",
       "      <th>df</th>\n",
       "    </tr>\n",
       "  </thead>\n",
       "  <tbody>\n",
       "    <tr>\n",
       "      <th>0</th>\n",
       "      <td>2619.0</td>\n",
       "      <td>6.0</td>\n",
       "    </tr>\n",
       "    <tr>\n",
       "      <th>1</th>\n",
       "      <td>2618.0</td>\n",
       "      <td>7.0</td>\n",
       "    </tr>\n",
       "    <tr>\n",
       "      <th>2</th>\n",
       "      <td>2612.0</td>\n",
       "      <td>13.0</td>\n",
       "    </tr>\n",
       "    <tr>\n",
       "      <th>3</th>\n",
       "      <td>2609.0</td>\n",
       "      <td>16.0</td>\n",
       "    </tr>\n",
       "    <tr>\n",
       "      <th>4</th>\n",
       "      <td>2618.0</td>\n",
       "      <td>7.0</td>\n",
       "    </tr>\n",
       "  </tbody>\n",
       "</table>\n",
       "</div>"
      ],
      "text/plain": [
       "   df_residuals    df\n",
       "0        2619.0   6.0\n",
       "1        2618.0   7.0\n",
       "2        2612.0  13.0\n",
       "3        2609.0  16.0\n",
       "4        2618.0   7.0"
      ]
     },
     "execution_count": 31,
     "metadata": {},
     "output_type": "execute_result"
    }
   ],
   "source": [
    "# trabalhando com modelos GLM\n",
    "def anova_deviance_table(*models):\n",
    "    return pd.DataFrame({\n",
    "        \"df_residuals\": [i.df_resid for i in models],\n",
    "        #\"resid_stddev\": [i.deviance for i in models],\n",
    "        \"df\": [i.df_model for i in models],\n",
    "        #\"deviance\": [i.deviance for i in models]\n",
    "    })\n",
    "\n",
    "f1 = \"value_per_sq_ft ~ units + sq_ft + boro\"\n",
    "f2 = \"value_per_sq_ft ~ units * sq_ft + boro\"\n",
    "f3 = \"value_per_sq_ft ~ units + sq_ft * boro + type\"\n",
    "f4 = \"value_per_sq_ft ~ units + sq_ft * boro + sq_ft * type\"\n",
    "f5 = \"value_per_sq_ft ~ boro + type\"\n",
    "\n",
    "glm1 = smf.ols(f1, data = housing).fit()\n",
    "glm2 = smf.ols(f2, data = housing).fit()\n",
    "glm3 = smf.ols(f3, data = housing).fit()\n",
    "glm4 = smf.ols(f4, data = housing).fit()\n",
    "glm5 = smf.ols(f5, data = housing).fit()\n",
    "\n",
    "glm_anova = anova_deviance_table(glm1, glm2, glm3, glm4, glm5)\n",
    "glm_anova"
   ]
  },
  {
   "cell_type": "code",
   "execution_count": 32,
   "id": "5288319f",
   "metadata": {},
   "outputs": [
    {
     "data": {
      "text/plain": [
       "0    1619\n",
       "1    1007\n",
       "Name: high_value, dtype: int64"
      ]
     },
     "execution_count": 32,
     "metadata": {},
     "output_type": "execute_result"
    }
   ],
   "source": [
    "# fazendo o mesmo em uma regressão logística\n",
    "\n",
    "# cria uma variável binária\n",
    "housing[\"high_value\"] = (housing[\"value_per_sq_ft\"] >= 150).astype(int)\n",
    "housing[\"high_value\"].value_counts()"
   ]
  },
  {
   "cell_type": "code",
   "execution_count": 33,
   "id": "9155a92a",
   "metadata": {},
   "outputs": [
    {
     "name": "stderr",
     "output_type": "stream",
     "text": [
      "C:\\Users\\User\\AppData\\Local\\Temp/ipykernel_5628/351959334.py:8: DeprecationWarning: Calling Family(..) with a link class as argument is deprecated.\n",
      "Use an instance of a link class instead.\n",
      "  logistic = statsmodels.genmod.families.family.Binomial(link = statsmodels.genmod.families.links.logit)\n",
      "C:\\Users\\User\\anaconda3\\lib\\site-packages\\statsmodels\\genmod\\families\\links.py:188: RuntimeWarning: overflow encountered in exp\n",
      "  t = np.exp(-z)\n"
     ]
    },
    {
     "data": {
      "text/html": [
       "<div>\n",
       "<style scoped>\n",
       "    .dataframe tbody tr th:only-of-type {\n",
       "        vertical-align: middle;\n",
       "    }\n",
       "\n",
       "    .dataframe tbody tr th {\n",
       "        vertical-align: top;\n",
       "    }\n",
       "\n",
       "    .dataframe thead th {\n",
       "        text-align: right;\n",
       "    }\n",
       "</style>\n",
       "<table border=\"1\" class=\"dataframe\">\n",
       "  <thead>\n",
       "    <tr style=\"text-align: right;\">\n",
       "      <th></th>\n",
       "      <th>df_residuals</th>\n",
       "      <th>df</th>\n",
       "    </tr>\n",
       "  </thead>\n",
       "  <tbody>\n",
       "    <tr>\n",
       "      <th>0</th>\n",
       "      <td>2619</td>\n",
       "      <td>6</td>\n",
       "    </tr>\n",
       "    <tr>\n",
       "      <th>1</th>\n",
       "      <td>2618</td>\n",
       "      <td>7</td>\n",
       "    </tr>\n",
       "    <tr>\n",
       "      <th>2</th>\n",
       "      <td>2612</td>\n",
       "      <td>13</td>\n",
       "    </tr>\n",
       "    <tr>\n",
       "      <th>3</th>\n",
       "      <td>2609</td>\n",
       "      <td>16</td>\n",
       "    </tr>\n",
       "    <tr>\n",
       "      <th>4</th>\n",
       "      <td>2618</td>\n",
       "      <td>7</td>\n",
       "    </tr>\n",
       "  </tbody>\n",
       "</table>\n",
       "</div>"
      ],
      "text/plain": [
       "   df_residuals  df\n",
       "0          2619   6\n",
       "1          2618   7\n",
       "2          2612  13\n",
       "3          2609  16\n",
       "4          2618   7"
      ]
     },
     "execution_count": 33,
     "metadata": {},
     "output_type": "execute_result"
    }
   ],
   "source": [
    "# cria e faz a adequação à nossa regressão logística usando GLM\n",
    "f1 = \"value_per_sq_ft ~ units + sq_ft + boro\"\n",
    "f2 = \"value_per_sq_ft ~ units * sq_ft + boro\"\n",
    "f3 = \"value_per_sq_ft ~ units + sq_ft * boro + type\"\n",
    "f4 = \"value_per_sq_ft ~ units + sq_ft * boro + sq_ft * type\"\n",
    "f5 = \"value_per_sq_ft ~ boro + type\"\n",
    "\n",
    "logistic = statsmodels.genmod.families.family.Binomial(link = statsmodels.genmod.families.links.logit)\n",
    "\n",
    "glm1 = smf.glm(f1, data = housing, family = logistic).fit()\n",
    "glm2 = smf.glm(f2, data = housing, family = logistic).fit()\n",
    "glm3 = smf.glm(f3, data = housing, family = logistic).fit()\n",
    "glm4 = smf.glm(f4, data = housing, family = logistic).fit()\n",
    "glm5 = smf.glm(f5, data = housing, family = logistic).fit()\n",
    "\n",
    "# mostra os desvios de nossos modelos GLM\n",
    "anova_deviance_table(glm1, glm2, glm3, glm4, glm5)"
   ]
  },
  {
   "cell_type": "code",
   "execution_count": 36,
   "id": "987b281a",
   "metadata": {},
   "outputs": [
    {
     "data": {
      "text/plain": [
       "Index(['neighborhood', 'type', 'units', 'year_built', 'sq_ft', 'income',\n",
       "       'income_per_sq_ft', 'expense', 'expense_per_sq_ft', 'net_income',\n",
       "       'value', 'value_per_sq_ft', 'boro', 'high_value'],\n",
       "      dtype='object')"
      ]
     },
     "execution_count": 36,
     "metadata": {},
     "output_type": "execute_result"
    }
   ],
   "source": [
    "# validação cruzada k-fold\n",
    "housing.columns"
   ]
  },
  {
   "cell_type": "code",
   "execution_count": 37,
   "id": "b5c98bd0",
   "metadata": {},
   "outputs": [],
   "source": [
    "# obtém os dados de treinamento e de teste\n",
    "X_train, X_test, y_train, y_test = train_test_split(\n",
    "    pd.get_dummies(housing[[\"units\", \"sq_ft\", \"boro\"]],\n",
    "                   drop_first = True),\n",
    "    housing[\"value_per_sq_ft\"],\n",
    "    test_size = 0.20,\n",
    "    random_state = 42\n",
    ")"
   ]
  },
  {
   "cell_type": "code",
   "execution_count": 38,
   "id": "ef165352",
   "metadata": {},
   "outputs": [
    {
     "data": {
      "text/plain": [
       "0.6137125285030869"
      ]
     },
     "execution_count": 38,
     "metadata": {},
     "output_type": "execute_result"
    }
   ],
   "source": [
    "# ajuste do modelo usando os dados de treino\n",
    "lr = LinearRegression().fit(X_train, y_train)\n",
    "lr.score(X_test, y_test)"
   ]
  },
  {
   "cell_type": "code",
   "execution_count": 42,
   "id": "ed6d3ac7",
   "metadata": {},
   "outputs": [
    {
     "data": {
      "text/plain": [
       "0.6137125285030869"
      ]
     },
     "execution_count": 42,
     "metadata": {},
     "output_type": "execute_result"
    }
   ],
   "source": [
    "# idem ao código anterior, mas usando dmatrices da biblioteca patsy\n",
    "y, X = dmatrices(\"value_per_sq_ft ~ units + sq_ft + boro\", housing,\n",
    "                return_type = \"dataframe\")\n",
    "\n",
    "X_train, X_test, y_train, y_test = train_test_split(\n",
    "    pd.get_dummies(housing[[\"units\", \"sq_ft\", \"boro\"]],\n",
    "                   drop_first = True),\n",
    "    housing[\"value_per_sq_ft\"],\n",
    "    test_size = 0.20,\n",
    "    random_state = 42\n",
    ")\n",
    "\n",
    "lr = LinearRegression().fit(X_train, y_train)\n",
    "lr.score(X_test, y_test)"
   ]
  },
  {
   "cell_type": "code",
   "execution_count": 44,
   "id": "099ee9a9",
   "metadata": {},
   "outputs": [
    {
     "data": {
      "text/html": [
       "<div>\n",
       "<style scoped>\n",
       "    .dataframe tbody tr th:only-of-type {\n",
       "        vertical-align: middle;\n",
       "    }\n",
       "\n",
       "    .dataframe tbody tr th {\n",
       "        vertical-align: top;\n",
       "    }\n",
       "\n",
       "    .dataframe thead th {\n",
       "        text-align: right;\n",
       "    }\n",
       "</style>\n",
       "<table border=\"1\" class=\"dataframe\">\n",
       "  <thead>\n",
       "    <tr style=\"text-align: right;\">\n",
       "      <th></th>\n",
       "      <th>Intercept</th>\n",
       "      <th>boro[T.Brooklyn]</th>\n",
       "      <th>boro[T.Manhattan]</th>\n",
       "      <th>boro[T.Queens]</th>\n",
       "      <th>boro[T.Staten Island]</th>\n",
       "      <th>units</th>\n",
       "      <th>sq_ft</th>\n",
       "    </tr>\n",
       "  </thead>\n",
       "  <tbody>\n",
       "    <tr>\n",
       "      <th>0</th>\n",
       "      <td>0.0</td>\n",
       "      <td>33.369037</td>\n",
       "      <td>129.904011</td>\n",
       "      <td>32.103100</td>\n",
       "      <td>-4.381085</td>\n",
       "      <td>-0.205890</td>\n",
       "      <td>0.000220</td>\n",
       "    </tr>\n",
       "    <tr>\n",
       "      <th>0</th>\n",
       "      <td>0.0</td>\n",
       "      <td>32.889925</td>\n",
       "      <td>116.957385</td>\n",
       "      <td>31.295956</td>\n",
       "      <td>-4.919232</td>\n",
       "      <td>-0.146180</td>\n",
       "      <td>0.000155</td>\n",
       "    </tr>\n",
       "    <tr>\n",
       "      <th>0</th>\n",
       "      <td>0.0</td>\n",
       "      <td>30.975560</td>\n",
       "      <td>141.859327</td>\n",
       "      <td>32.043449</td>\n",
       "      <td>-4.379916</td>\n",
       "      <td>-0.179671</td>\n",
       "      <td>0.000194</td>\n",
       "    </tr>\n",
       "    <tr>\n",
       "      <th>0</th>\n",
       "      <td>0.0</td>\n",
       "      <td>41.449196</td>\n",
       "      <td>130.779013</td>\n",
       "      <td>33.050968</td>\n",
       "      <td>-3.430209</td>\n",
       "      <td>-0.207904</td>\n",
       "      <td>0.000232</td>\n",
       "    </tr>\n",
       "    <tr>\n",
       "      <th>0</th>\n",
       "      <td>0.0</td>\n",
       "      <td>-38.511915</td>\n",
       "      <td>56.069855</td>\n",
       "      <td>-17.557939</td>\n",
       "      <td>0.000000</td>\n",
       "      <td>-0.145829</td>\n",
       "      <td>0.000202</td>\n",
       "    </tr>\n",
       "  </tbody>\n",
       "</table>\n",
       "</div>"
      ],
      "text/plain": [
       "   Intercept  boro[T.Brooklyn]  boro[T.Manhattan]  boro[T.Queens]  \\\n",
       "0        0.0         33.369037         129.904011       32.103100   \n",
       "0        0.0         32.889925         116.957385       31.295956   \n",
       "0        0.0         30.975560         141.859327       32.043449   \n",
       "0        0.0         41.449196         130.779013       33.050968   \n",
       "0        0.0        -38.511915          56.069855      -17.557939   \n",
       "\n",
       "   boro[T.Staten Island]     units     sq_ft  \n",
       "0              -4.381085 -0.205890  0.000220  \n",
       "0              -4.919232 -0.146180  0.000155  \n",
       "0              -4.379916 -0.179671  0.000194  \n",
       "0              -3.430209 -0.207904  0.000232  \n",
       "0               0.000000 -0.145829  0.000202  "
      ]
     },
     "execution_count": 44,
     "metadata": {},
     "output_type": "execute_result"
    }
   ],
   "source": [
    "# finalmente, a vlidação cruzada k-fold\n",
    "housing = pd.read_csv(\"housing_renamed.csv\")\n",
    "\n",
    "kf = KFold(n_splits = 5)\n",
    "\n",
    "y, X = dmatrices(\"value_per_sq_ft ~ units + sq_ft + boro\", housing)\n",
    "\n",
    "coefs = []\n",
    "scores = []\n",
    "\n",
    "for train, test in kf.split(X):\n",
    "    X_train, X_test = X[train], X[test]\n",
    "    y_train, y_test = y[train], y[test]\n",
    "    lr = LinearRegression().fit(X_train, y_train)\n",
    "    coefs.append(pd.DataFrame(lr.coef_))\n",
    "    scores.append(lr.score(X_test, y_test))\n",
    "    \n",
    "coefs_df = pd.concat(coefs)\n",
    "coefs_df.columns = X.design_info.column_names\n",
    "coefs_df"
   ]
  },
  {
   "cell_type": "code",
   "execution_count": 45,
   "id": "ea58b769",
   "metadata": {},
   "outputs": [
    {
     "data": {
      "text/plain": [
       "Intercept                  0.000000\n",
       "boro[T.Brooklyn]          20.034361\n",
       "boro[T.Manhattan]        115.113918\n",
       "boro[T.Queens]            22.187107\n",
       "boro[T.Staten Island]     -3.422088\n",
       "units                     -0.177095\n",
       "sq_ft                      0.000201\n",
       "dtype: float64"
      ]
     },
     "execution_count": 45,
     "metadata": {},
     "output_type": "execute_result"
    }
   ],
   "source": [
    "# checando o coeficiente médio de todas as partes\n",
    "coefs_df.apply(np.mean)"
   ]
  },
  {
   "cell_type": "code",
   "execution_count": 46,
   "id": "aa1b151e",
   "metadata": {},
   "outputs": [
    {
     "data": {
      "text/plain": [
       "[0.027314162909394923,\n",
       " -0.553836221218611,\n",
       " -0.1563637168803238,\n",
       " -0.32342020618600453,\n",
       " -1.6929655586236945]"
      ]
     },
     "execution_count": 46,
     "metadata": {},
     "output_type": "execute_result"
    }
   ],
   "source": [
    "# coeficientes de determinação dos diferentes modelos\n",
    "scores"
   ]
  },
  {
   "cell_type": "code",
   "execution_count": 47,
   "id": "9e7d1e58",
   "metadata": {},
   "outputs": [
    {
     "data": {
      "text/plain": [
       "array([ 0.02731416, -0.55383622, -0.15636372, -0.32342021, -1.69296556])"
      ]
     },
     "execution_count": 47,
     "metadata": {},
     "output_type": "execute_result"
    }
   ],
   "source": [
    "# usa cross_val_scores para calcular pontuações de validação cruzada\n",
    "model = LinearRegression()\n",
    "scores = cross_val_score(model, X, y, cv = 5)\n",
    "scores"
   ]
  },
  {
   "cell_type": "code",
   "execution_count": 48,
   "id": "34a17cf8",
   "metadata": {},
   "outputs": [
    {
     "data": {
      "text/plain": [
       "-0.5398543079998477"
      ]
     },
     "execution_count": 48,
     "metadata": {},
     "output_type": "execute_result"
    }
   ],
   "source": [
    "scores.mean()"
   ]
  }
 ],
 "metadata": {
  "kernelspec": {
   "display_name": "Python 3 (ipykernel)",
   "language": "python",
   "name": "python3"
  },
  "language_info": {
   "codemirror_mode": {
    "name": "ipython",
    "version": 3
   },
   "file_extension": ".py",
   "mimetype": "text/x-python",
   "name": "python",
   "nbconvert_exporter": "python",
   "pygments_lexer": "ipython3",
   "version": "3.9.7"
  }
 },
 "nbformat": 4,
 "nbformat_minor": 5
}
