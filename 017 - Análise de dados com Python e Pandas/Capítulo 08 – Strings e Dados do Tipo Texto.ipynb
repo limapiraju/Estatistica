{
 "cells": [
  {
   "cell_type": "markdown",
   "id": "0917bf53",
   "metadata": {},
   "source": [
    "**Objetivos**\n",
    "\n",
    "Este capítulo abordará:\n",
    "1. Obtenção de subconjuntos de strings.\n",
    "2. Métodos de string.\n",
    "3. Formatação de strings.\n",
    "4. Expressões regulares.\n",
    "\n",
    "**Nota**: consulte os *links* a seguir:\n",
    "* www.rexegg.com/regex-python.html\n",
    "* www.rexegg.com/regex-best-trick.html"
   ]
  },
  {
   "cell_type": "code",
   "execution_count": 1,
   "id": "e7b8105a",
   "metadata": {},
   "outputs": [
    {
     "data": {
      "text/plain": [
       "'Pto aapióoo'"
      ]
     },
     "execution_count": 1,
     "metadata": {},
     "output_type": "execute_result"
    }
   ],
   "source": [
    "word = \"Python para psicólogos\"\n",
    "word[::2]"
   ]
  },
  {
   "cell_type": "code",
   "execution_count": 2,
   "id": "43bb2a69",
   "metadata": {},
   "outputs": [
    {
     "data": {
      "text/plain": [
       "'Black knight'"
      ]
     },
     "execution_count": 2,
     "metadata": {},
     "output_type": "execute_result"
    }
   ],
   "source": [
    "\"black Knight\".capitalize()"
   ]
  },
  {
   "cell_type": "code",
   "execution_count": 3,
   "id": "b426c5d3",
   "metadata": {},
   "outputs": [
    {
     "data": {
      "text/plain": [
       "4"
      ]
     },
     "execution_count": 3,
     "metadata": {},
     "output_type": "execute_result"
    }
   ],
   "source": [
    "\"Uma uva é uma fruta muito engraçada\".count(\"u\")"
   ]
  },
  {
   "cell_type": "code",
   "execution_count": 4,
   "id": "2bc23a6a",
   "metadata": {},
   "outputs": [
    {
     "data": {
      "text/plain": [
       "True"
      ]
     },
     "execution_count": 4,
     "metadata": {},
     "output_type": "execute_result"
    }
   ],
   "source": [
    "\"Python para psicólogos\".startswith(\"Python\")"
   ]
  },
  {
   "cell_type": "code",
   "execution_count": 5,
   "id": "6bbdea30",
   "metadata": {},
   "outputs": [
    {
     "data": {
      "text/plain": [
       "True"
      ]
     },
     "execution_count": 5,
     "metadata": {},
     "output_type": "execute_result"
    }
   ],
   "source": [
    "\"Python para psicólogos\".endswith(\"ogos\")"
   ]
  },
  {
   "cell_type": "code",
   "execution_count": 6,
   "id": "174dd03a",
   "metadata": {},
   "outputs": [
    {
     "data": {
      "text/plain": [
       "3"
      ]
     },
     "execution_count": 6,
     "metadata": {},
     "output_type": "execute_result"
    }
   ],
   "source": [
    "\"Python\".find(\"h\")"
   ]
  },
  {
   "cell_type": "code",
   "execution_count": 7,
   "id": "305688a4",
   "metadata": {},
   "outputs": [
    {
     "ename": "ValueError",
     "evalue": "substring not found",
     "output_type": "error",
     "traceback": [
      "\u001b[1;31m---------------------------------------------------------------------------\u001b[0m",
      "\u001b[1;31mValueError\u001b[0m                                Traceback (most recent call last)",
      "\u001b[1;32m~\\AppData\\Local\\Temp/ipykernel_6648/695999387.py\u001b[0m in \u001b[0;36m<module>\u001b[1;34m\u001b[0m\n\u001b[1;32m----> 1\u001b[1;33m \u001b[1;34m\"Python\"\u001b[0m\u001b[1;33m.\u001b[0m\u001b[0mindex\u001b[0m\u001b[1;33m(\u001b[0m\u001b[1;34m\"a\"\u001b[0m\u001b[1;33m)\u001b[0m\u001b[1;33m\u001b[0m\u001b[1;33m\u001b[0m\u001b[0m\n\u001b[0m",
      "\u001b[1;31mValueError\u001b[0m: substring not found"
     ]
    }
   ],
   "source": [
    "\"Python\".index(\"a\")"
   ]
  },
  {
   "cell_type": "code",
   "execution_count": 8,
   "id": "d5856283",
   "metadata": {},
   "outputs": [
    {
     "data": {
      "text/plain": [
       "False"
      ]
     },
     "execution_count": 8,
     "metadata": {},
     "output_type": "execute_result"
    }
   ],
   "source": [
    "\"Python is fun\".isalpha()"
   ]
  },
  {
   "cell_type": "code",
   "execution_count": 9,
   "id": "99bb2095",
   "metadata": {},
   "outputs": [
    {
     "data": {
      "text/plain": [
       "True"
      ]
     },
     "execution_count": 9,
     "metadata": {},
     "output_type": "execute_result"
    }
   ],
   "source": [
    "\"42\".isdecimal()"
   ]
  },
  {
   "cell_type": "code",
   "execution_count": 10,
   "id": "d1de3f45",
   "metadata": {},
   "outputs": [
    {
     "data": {
      "text/plain": [
       "True"
      ]
     },
     "execution_count": 10,
     "metadata": {},
     "output_type": "execute_result"
    }
   ],
   "source": [
    "\"tartaro14\".isalnum()"
   ]
  },
  {
   "cell_type": "code",
   "execution_count": 11,
   "id": "a565fc20",
   "metadata": {},
   "outputs": [
    {
     "data": {
      "text/plain": [
       "'python para psicólogos'"
      ]
     },
     "execution_count": 11,
     "metadata": {},
     "output_type": "execute_result"
    }
   ],
   "source": [
    "\"Python para psicólogos\".lower()"
   ]
  },
  {
   "cell_type": "code",
   "execution_count": 12,
   "id": "c65b17a9",
   "metadata": {},
   "outputs": [
    {
     "data": {
      "text/plain": [
       "'PYTHON PARA PSICÓLOGOS'"
      ]
     },
     "execution_count": 12,
     "metadata": {},
     "output_type": "execute_result"
    }
   ],
   "source": [
    "\"Python para psicólogos\".upper()"
   ]
  },
  {
   "cell_type": "code",
   "execution_count": 13,
   "id": "53bab52e",
   "metadata": {},
   "outputs": [
    {
     "data": {
      "text/plain": [
       "'JavaScript para psicólogos'"
      ]
     },
     "execution_count": 13,
     "metadata": {},
     "output_type": "execute_result"
    }
   ],
   "source": [
    "\"Python para psicólogos\".replace(\"Python\", \"JavaScript\")"
   ]
  },
  {
   "cell_type": "code",
   "execution_count": 14,
   "id": "69136582",
   "metadata": {},
   "outputs": [
    {
     "data": {
      "text/plain": [
       "'minhasenhacomespaços'"
      ]
     },
     "execution_count": 14,
     "metadata": {},
     "output_type": "execute_result"
    }
   ],
   "source": [
    "\" minhasenhacomespaços   \".strip()"
   ]
  },
  {
   "cell_type": "code",
   "execution_count": 16,
   "id": "ad39c891",
   "metadata": {},
   "outputs": [
    {
     "data": {
      "text/plain": [
       "['minha', 'senha', 'com', 'hífens']"
      ]
     },
     "execution_count": 16,
     "metadata": {},
     "output_type": "execute_result"
    }
   ],
   "source": [
    "\"minha-senha-com-hífens\".split(sep = \"-\")"
   ]
  },
  {
   "cell_type": "code",
   "execution_count": 20,
   "id": "9acac30d",
   "metadata": {},
   "outputs": [
    {
     "data": {
      "text/plain": [
       "'          vamos centralizar este texto?           '"
      ]
     },
     "execution_count": 20,
     "metadata": {},
     "output_type": "execute_result"
    }
   ],
   "source": [
    "\"vamos centralizar este texto?\".center(50)"
   ]
  },
  {
   "cell_type": "code",
   "execution_count": 23,
   "id": "e7aeeb69",
   "metadata": {},
   "outputs": [
    {
     "data": {
      "text/plain": [
       "'00042'"
      ]
     },
     "execution_count": 23,
     "metadata": {},
     "output_type": "execute_result"
    }
   ],
   "source": [
    "\"42\".zfill(5)"
   ]
  },
  {
   "cell_type": "code",
   "execution_count": 25,
   "id": "b44c55ba",
   "metadata": {},
   "outputs": [
    {
     "data": {
      "text/plain": [
       "'22-08-2022-10-07-00'"
      ]
     },
     "execution_count": 25,
     "metadata": {},
     "output_type": "execute_result"
    }
   ],
   "source": [
    "dia = \"22\"\n",
    "mes = \"08\"\n",
    "ano = \"2022\"\n",
    "hora = \"10\"\n",
    "minuto = \"07\"\n",
    "segundo = \"00\"\n",
    "\n",
    "data = \"-\".join([dia, mes, ano, hora, minuto, segundo])\n",
    "data"
   ]
  },
  {
   "cell_type": "code",
   "execution_count": 28,
   "id": "e7da7a3e",
   "metadata": {},
   "outputs": [
    {
     "name": "stdout",
     "output_type": "stream",
     "text": [
      "Eu lembro de 0.0001031 ou 0.0103% do que Lu Chao recitou.\n"
     ]
    }
   ],
   "source": [
    "# o 0 em {0:.4} e em {0:.4%} refere-se ao índice 0 nesse formato\n",
    "# 0 .4 refere-se à quantidade de valores decimais, 4;\n",
    "# se especificarmos um %, o decimal será formatado com uma porcentagem\n",
    "print(\"Eu lembro de {0:.4} ou {0:.4%} do que Lu Chao recitou.\" .format(7/67890))"
   ]
  },
  {
   "cell_type": "code",
   "execution_count": 29,
   "id": "f8197c41",
   "metadata": {},
   "outputs": [
    {
     "name": "stdout",
     "output_type": "stream",
     "text": [
      "Meu número de ID é 00042.\n"
     ]
    }
   ],
   "source": [
    "print(\"Meu número de ID é {0:05d}.\" .format(42))"
   ]
  },
  {
   "cell_type": "markdown",
   "id": "111cd1d4",
   "metadata": {},
   "source": [
    "| Sintaxe | Descrição |\n",
    "| :-: | :- |\n",
    "| . | Faz a correspondência com qualquer caractere único. |\n",
    "| ^ | Faz a correspondência no início de uma string. |\n",
    "| $ | Faz a correspondência no final de uma string. |\n",
    "| * | Faz a correspondência com zero ou mais repetições do caractere anterior. |\n",
    "| + | Faz a correspondência com uma ou mais repetições do caractere anterior. |\n",
    "| ? | Faz a correspondência com zero ou uma repetição do caractere anterior. |\n",
    "| {m} | Faz a correspondência com `m` repetições do caractere anterior. |\n",
    "| {m,n} | Faz a correspondência com o caractere anterior, qualquer número de vezes de `m` a `n`. |\n",
    "| \\ | Caractere de escape. |\n",
    "| [ ] | Um conjunto de caracteres (por exemplo, `[a-z]` fará correspondência com todas as letras de `a` a `z`. |\n",
    "| `I` | OU; A`I`B fará a correspondência com A ou com B. |\n",
    "| ( ) | Faz a correspondência exata com o padrão especificado nos parênteses. |\n",
    "\n",
    "\n",
    "\n",
    "\n"
   ]
  },
  {
   "cell_type": "markdown",
   "id": "82ea5e2d",
   "metadata": {},
   "source": [
    "| Função | Descrição |\n",
    "| :-: | :- |\n",
    "| search | Encontra a primeira ocorrência de uma string. |\n",
    "| match | Faz a correspondência no íncio de uma string. |\n",
    "| fullmatch | Faz a correspondência com toda a string. |\n",
    "| split | Divide a string de acordo com o padrão. |\n",
    "| findall | Encontra todas as correspondências de uma string que não se sobreponham. |\n",
    "| finditer | Semelhante a `findall`, mas devolve um iterador Python. |\n",
    "| sub | Substitui o padrão correspondente pela string especificada. |"
   ]
  },
  {
   "cell_type": "code",
   "execution_count": 30,
   "id": "5e7c475b",
   "metadata": {},
   "outputs": [
    {
     "name": "stdout",
     "output_type": "stream",
     "text": [
      "<class 're.Match'>\n"
     ]
    }
   ],
   "source": [
    "import re\n",
    "tele_num = \"1234567890\"\n",
    "\n",
    "# busca padrão de 10 dígitos consecutivos\n",
    "m = re.match(pattern = \"\\d\\d\\d\\d\\d\\d\\d\\d\\d\\d\", string = tele_num)\n",
    "print(type(m))"
   ]
  },
  {
   "cell_type": "code",
   "execution_count": 31,
   "id": "3ccd209c",
   "metadata": {},
   "outputs": [
    {
     "name": "stdout",
     "output_type": "stream",
     "text": [
      "<re.Match object; span=(0, 10), match='1234567890'>\n"
     ]
    }
   ],
   "source": [
    "print(m)"
   ]
  },
  {
   "cell_type": "code",
   "execution_count": 32,
   "id": "fccdbbfa",
   "metadata": {},
   "outputs": [
    {
     "name": "stdout",
     "output_type": "stream",
     "text": [
      "True\n"
     ]
    }
   ],
   "source": [
    "# houve correspondência?\n",
    "print(bool(m))"
   ]
  },
  {
   "cell_type": "code",
   "execution_count": 33,
   "id": "9096e8c8",
   "metadata": {},
   "outputs": [
    {
     "name": "stdout",
     "output_type": "stream",
     "text": [
      "match\n"
     ]
    }
   ],
   "source": [
    "# deve exibir match\n",
    "if m:\n",
    "    print(\"match\")\n",
    "else:\n",
    "    print(\"no match\")"
   ]
  },
  {
   "cell_type": "code",
   "execution_count": 34,
   "id": "90221a04",
   "metadata": {},
   "outputs": [
    {
     "name": "stdout",
     "output_type": "stream",
     "text": [
      "0\n"
     ]
    }
   ],
   "source": [
    "# onde começa a correspondência?\n",
    "print(m.start())"
   ]
  },
  {
   "cell_type": "code",
   "execution_count": 35,
   "id": "0ece7dce",
   "metadata": {},
   "outputs": [
    {
     "name": "stdout",
     "output_type": "stream",
     "text": [
      "10\n"
     ]
    }
   ],
   "source": [
    "# onde termina a correspondência?\n",
    "print(m.end())"
   ]
  },
  {
   "cell_type": "code",
   "execution_count": 36,
   "id": "c0935071",
   "metadata": {},
   "outputs": [
    {
     "name": "stdout",
     "output_type": "stream",
     "text": [
      "(0, 10)\n"
     ]
    }
   ],
   "source": [
    "# onde começa e termina a correspondência?\n",
    "print(m.span())"
   ]
  },
  {
   "cell_type": "code",
   "execution_count": 37,
   "id": "d16a4edd",
   "metadata": {},
   "outputs": [
    {
     "name": "stdout",
     "output_type": "stream",
     "text": [
      "1234567890\n"
     ]
    }
   ],
   "source": [
    "# qual é a string que deu match com o padrão buscado?\n",
    "print(m.group())"
   ]
  },
  {
   "cell_type": "code",
   "execution_count": 38,
   "id": "0de97ffb",
   "metadata": {},
   "outputs": [
    {
     "name": "stdout",
     "output_type": "stream",
     "text": [
      "None\n"
     ]
    }
   ],
   "source": [
    "tele_num_spaces = \"61 98160 2897\"\n",
    "\n",
    "m = re.match(pattern = \"\\d{10}\", string = tele_num_spaces)\n",
    "print(m)"
   ]
  },
  {
   "cell_type": "code",
   "execution_count": 39,
   "id": "7da4c7fa",
   "metadata": {},
   "outputs": [
    {
     "name": "stdout",
     "output_type": "stream",
     "text": [
      "no match\n"
     ]
    }
   ],
   "source": [
    "if m:\n",
    "    print(\"match\")\n",
    "else:\n",
    "    print(\"no match\")"
   ]
  },
  {
   "cell_type": "code",
   "execution_count": 41,
   "id": "655900c1",
   "metadata": {},
   "outputs": [
    {
     "name": "stdout",
     "output_type": "stream",
     "text": [
      "<re.Match object; span=(0, 13), match='61 98160 2897'>\n"
     ]
    }
   ],
   "source": [
    "# modificando a RegEx anterior\n",
    "my_pattern = \"\\d{2}\\s?\\d{5}\\s?\\d{4}\"\n",
    "m = re.match(pattern = my_pattern, string = tele_num_spaces)\n",
    "print(m)"
   ]
  },
  {
   "cell_type": "code",
   "execution_count": 42,
   "id": "0148e26a",
   "metadata": {},
   "outputs": [
    {
     "name": "stdout",
     "output_type": "stream",
     "text": [
      "<re.Match object; span=(0, 15), match='(61) 98160-2897'>\n"
     ]
    }
   ],
   "source": [
    "my_number = \"(61) 98160-2897\"\n",
    "\n",
    "my_pattern = \"\\(?\\d{2}\\)?\\s?\\d{5}\\s?-?\\d{4}\"\n",
    "m = re.match(pattern = my_pattern, string = my_number)\n",
    "print(m)\n"
   ]
  },
  {
   "cell_type": "code",
   "execution_count": 43,
   "id": "113dc61b",
   "metadata": {},
   "outputs": [
    {
     "name": "stdout",
     "output_type": "stream",
     "text": [
      "['13', '12', '11', '10', '9']\n"
     ]
    }
   ],
   "source": [
    "p = \"\\d+\"\n",
    "# python concatenará duas strings uma ao lado da outra\n",
    "s = \"\"\"\"13 Jodie Whittaker, war John Hurt, 12 Petter Capaldi,\n",
    "11 Math Smith, 10 David Tennant, 9 Christopher Eccleston\"\"\"\n",
    "\n",
    "m = re.findall(pattern = p, string = s)\n",
    "print(m)"
   ]
  },
  {
   "cell_type": "code",
   "execution_count": 45,
   "id": "43a1c514",
   "metadata": {},
   "outputs": [
    {
     "name": "stdout",
     "output_type": "stream",
     "text": [
      "What? Ridden on a horse?\n",
      "Yes!\n",
      "You're using coconuts!\n",
      "What?\n",
      "You've got... coconut[s] and you're bangin' 'em together.\n"
     ]
    }
   ],
   "source": [
    "multi_str = \"\"\"Guard: What? Ridden on a horse?\n",
    "King Arthur: Yes!\n",
    "Guard: You're using coconuts!\n",
    "King Arthur: What?\n",
    "Guard: You've got... coconut[s] and you're bangin' 'em together.\"\"\"\n",
    "\n",
    "p = \"\\w+\\s?\\w+:\\s?\"\n",
    "s = re.sub(pattern = p, string = multi_str, repl = \"\")\n",
    "print(s)"
   ]
  },
  {
   "cell_type": "code",
   "execution_count": 46,
   "id": "2e871766",
   "metadata": {},
   "outputs": [
    {
     "name": "stdout",
     "output_type": "stream",
     "text": [
      "['What? Ridden on a horse?', \"You're using coconuts!\", \"You've got... coconut[s] and you're bangin' 'em together.\"]\n"
     ]
    }
   ],
   "source": [
    "# imprime falas do guarda\n",
    "guard = s.splitlines()[::2]\n",
    "print(guard)"
   ]
  },
  {
   "cell_type": "code",
   "execution_count": 47,
   "id": "d66e2544",
   "metadata": {},
   "outputs": [
    {
     "name": "stdout",
     "output_type": "stream",
     "text": [
      "['Yes!', 'What?']\n"
     ]
    }
   ],
   "source": [
    "# imprime falas do rei arthur\n",
    "kinga = s.splitlines()[1::2]\n",
    "print(kinga)"
   ]
  },
  {
   "cell_type": "code",
   "execution_count": null,
   "id": "ded8692c",
   "metadata": {},
   "outputs": [],
   "source": []
  }
 ],
 "metadata": {
  "kernelspec": {
   "display_name": "Python 3 (ipykernel)",
   "language": "python",
   "name": "python3"
  },
  "language_info": {
   "codemirror_mode": {
    "name": "ipython",
    "version": 3
   },
   "file_extension": ".py",
   "mimetype": "text/x-python",
   "name": "python",
   "nbconvert_exporter": "python",
   "pygments_lexer": "ipython3",
   "version": "3.9.7"
  }
 },
 "nbformat": 4,
 "nbformat_minor": 5
}
