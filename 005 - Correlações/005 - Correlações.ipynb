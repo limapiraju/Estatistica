{
 "cells": [
  {
   "cell_type": "code",
   "execution_count": 2,
   "metadata": {},
   "outputs": [],
   "source": [
    "# importando algumas bibliotecas\n",
    "import numpy as np\n",
    "import pandas as pd\n",
    "import matplotlib.pyplot as plt\n",
    "from scipy.stats import pearsonr, spearmanr, kendalltau, norm"
   ]
  },
  {
   "cell_type": "code",
   "execution_count": 3,
   "metadata": {
    "scrolled": true
   },
   "outputs": [
    {
     "data": {
      "text/html": [
       "<div>\n",
       "<style scoped>\n",
       "    .dataframe tbody tr th:only-of-type {\n",
       "        vertical-align: middle;\n",
       "    }\n",
       "\n",
       "    .dataframe tbody tr th {\n",
       "        vertical-align: top;\n",
       "    }\n",
       "\n",
       "    .dataframe thead th {\n",
       "        text-align: right;\n",
       "    }\n",
       "</style>\n",
       "<table border=\"1\" class=\"dataframe\">\n",
       "  <thead>\n",
       "    <tr style=\"text-align: right;\">\n",
       "      <th></th>\n",
       "      <th>X</th>\n",
       "      <th>W</th>\n",
       "      <th>Y</th>\n",
       "    </tr>\n",
       "    <tr>\n",
       "      <th>Caso</th>\n",
       "      <th></th>\n",
       "      <th></th>\n",
       "      <th></th>\n",
       "    </tr>\n",
       "  </thead>\n",
       "  <tbody>\n",
       "    <tr>\n",
       "      <th>A</th>\n",
       "      <td>16</td>\n",
       "      <td>48</td>\n",
       "      <td>100</td>\n",
       "    </tr>\n",
       "    <tr>\n",
       "      <th>B</th>\n",
       "      <td>14</td>\n",
       "      <td>47</td>\n",
       "      <td>92</td>\n",
       "    </tr>\n",
       "    <tr>\n",
       "      <th>C</th>\n",
       "      <td>16</td>\n",
       "      <td>45</td>\n",
       "      <td>88</td>\n",
       "    </tr>\n",
       "    <tr>\n",
       "      <th>D</th>\n",
       "      <td>12</td>\n",
       "      <td>45</td>\n",
       "      <td>95</td>\n",
       "    </tr>\n",
       "    <tr>\n",
       "      <th>E</th>\n",
       "      <td>18</td>\n",
       "      <td>46</td>\n",
       "      <td>98</td>\n",
       "    </tr>\n",
       "  </tbody>\n",
       "</table>\n",
       "</div>"
      ],
      "text/plain": [
       "       X   W    Y\n",
       "Caso             \n",
       "A     16  48  100\n",
       "B     14  47   92\n",
       "C     16  45   88\n",
       "D     12  45   95\n",
       "E     18  46   98"
      ]
     },
     "execution_count": 3,
     "metadata": {},
     "output_type": "execute_result"
    }
   ],
   "source": [
    "# carregando os dados baseados em Kline (2016), capítulo 2\n",
    "kline = pd.read_csv(\"Kline (2016), Chapter 2.csv\", index_col = \"Caso\")\n",
    "kline.head(5)"
   ]
  },
  {
   "cell_type": "markdown",
   "metadata": {},
   "source": [
    "Primeiro, vamos criar nossa própria função `pearson` que calculará a correlação de Pearson."
   ]
  },
  {
   "cell_type": "code",
   "execution_count": 9,
   "metadata": {},
   "outputs": [
    {
     "name": "stdout",
     "output_type": "stream",
     "text": [
      "Correlações: X e Y = 0.686; X e Z = 0.272; Y e W = 0.499.\n"
     ]
    }
   ],
   "source": [
    "# criando uma função que calcula a correlação de Pearson entre duas variáveis na unha\n",
    "def pearson(x, y):\n",
    "    '''\n",
    "    Calcula a correlação de Pearson entre duas variáveis e retorna o valor do coeficiente, r.\n",
    "    '''\n",
    "    \n",
    "    # vetores precisam ter o mesmo comprimento!\n",
    "    if x.size != y.size:\n",
    "        raise Exception(\"Erro! Os dois vetores precisam ter o mesmo comprimento\")\n",
    "\n",
    "    # no numerador, calculamos os produtos dos desvios cruzados das duas variáveis\n",
    "    numerador = np.sum((x - x.mean()) * (y - y.mean()))\n",
    "\n",
    "    # no denominador, calculamos o produto dos graus de liberdade (número de pares - 1)\n",
    "    # e os desvios-padrões das duas variáveis\n",
    "    denominador = x.size * np.std(x) * np.std(y)\n",
    "\n",
    "    # calcula o r\n",
    "    r = numerador / denominador\n",
    "    return r\n",
    "\n",
    "# testando se a função funciona\n",
    "meu_rxy = pearson(kline[\"X\"], kline[\"Y\"])\n",
    "meu_rxw = pearson(kline[\"X\"], kline[\"W\"])\n",
    "meu_ryw = pearson(kline[\"Y\"], kline[\"W\"])\n",
    "\n",
    "print(f\"Correlações: X e Y = {meu_rxy:.3f}; X e Z = {meu_rxw:.3f}; Y e W = {meu_ryw:.3f}.\")"
   ]
  },
  {
   "cell_type": "markdown",
   "metadata": {},
   "source": [
    "Obviamente, não precisamos criar uma função. A função acima foi criada apenas para exercitar a programação. Na prática, o próprio Python possui bibliotecas com a função já implementada. Para checar se nossa função retornou o valor correto. Vamos agora usar o `Numpy` para calcular a correlação de Pearson."
   ]
  },
  {
   "cell_type": "code",
   "execution_count": 10,
   "metadata": {},
   "outputs": [
    {
     "name": "stdout",
     "output_type": "stream",
     "text": [
      "Correlações: X e Y = 0.686; X e Z = 0.272; Y e W = 0.499.\n"
     ]
    }
   ],
   "source": [
    "# correlações de Pearson usando o NumPy\n",
    "rxy = np.corrcoef(kline[\"X\"], kline[\"Y\"])[0][1]\n",
    "rxw = np.corrcoef(kline[\"X\"], kline[\"W\"])[0][1]\n",
    "ryw = np.corrcoef(kline[\"Y\"], kline[\"W\"])[0][1]\n",
    "\n",
    "print(f\"Correlações: X e Y = {rxy:.3f}; X e Z = {rxw:.3f}; Y e W = {ryw:.3f}.\")"
   ]
  },
  {
   "cell_type": "markdown",
   "metadata": {},
   "source": [
    "Os valores bateram! :)\n",
    "Agora, vamos gerar uma matriz de correlação de Pearson usando o `Pandas`."
   ]
  },
  {
   "cell_type": "code",
   "execution_count": 11,
   "metadata": {},
   "outputs": [
    {
     "data": {
      "text/html": [
       "<div>\n",
       "<style scoped>\n",
       "    .dataframe tbody tr th:only-of-type {\n",
       "        vertical-align: middle;\n",
       "    }\n",
       "\n",
       "    .dataframe tbody tr th {\n",
       "        vertical-align: top;\n",
       "    }\n",
       "\n",
       "    .dataframe thead th {\n",
       "        text-align: right;\n",
       "    }\n",
       "</style>\n",
       "<table border=\"1\" class=\"dataframe\">\n",
       "  <thead>\n",
       "    <tr style=\"text-align: right;\">\n",
       "      <th></th>\n",
       "      <th>X</th>\n",
       "      <th>W</th>\n",
       "      <th>Y</th>\n",
       "    </tr>\n",
       "  </thead>\n",
       "  <tbody>\n",
       "    <tr>\n",
       "      <th>X</th>\n",
       "      <td>1.000</td>\n",
       "      <td>0.272</td>\n",
       "      <td>0.686</td>\n",
       "    </tr>\n",
       "    <tr>\n",
       "      <th>W</th>\n",
       "      <td>0.272</td>\n",
       "      <td>1.000</td>\n",
       "      <td>0.499</td>\n",
       "    </tr>\n",
       "    <tr>\n",
       "      <th>Y</th>\n",
       "      <td>0.686</td>\n",
       "      <td>0.499</td>\n",
       "      <td>1.000</td>\n",
       "    </tr>\n",
       "  </tbody>\n",
       "</table>\n",
       "</div>"
      ],
      "text/plain": [
       "       X      W      Y\n",
       "X  1.000  0.272  0.686\n",
       "W  0.272  1.000  0.499\n",
       "Y  0.686  0.499  1.000"
      ]
     },
     "execution_count": 11,
     "metadata": {},
     "output_type": "execute_result"
    }
   ],
   "source": [
    "# Matriz de correlações de Pearson usando Pandas\n",
    "kline.corr(method = \"pearson\").round(decimals = 3)"
   ]
  },
  {
   "cell_type": "markdown",
   "metadata": {},
   "source": [
    "Mais uma vez, os resultados bateram. Agora, vamos calcular a correlação de Spearman. Desta vez, usaremos direto o `Pandas`."
   ]
  },
  {
   "cell_type": "code",
   "execution_count": 12,
   "metadata": {},
   "outputs": [
    {
     "data": {
      "text/html": [
       "<div>\n",
       "<style scoped>\n",
       "    .dataframe tbody tr th:only-of-type {\n",
       "        vertical-align: middle;\n",
       "    }\n",
       "\n",
       "    .dataframe tbody tr th {\n",
       "        vertical-align: top;\n",
       "    }\n",
       "\n",
       "    .dataframe thead th {\n",
       "        text-align: right;\n",
       "    }\n",
       "</style>\n",
       "<table border=\"1\" class=\"dataframe\">\n",
       "  <thead>\n",
       "    <tr style=\"text-align: right;\">\n",
       "      <th></th>\n",
       "      <th>X</th>\n",
       "      <th>W</th>\n",
       "      <th>Y</th>\n",
       "    </tr>\n",
       "  </thead>\n",
       "  <tbody>\n",
       "    <tr>\n",
       "      <th>X</th>\n",
       "      <td>1.000</td>\n",
       "      <td>0.252</td>\n",
       "      <td>0.734</td>\n",
       "    </tr>\n",
       "    <tr>\n",
       "      <th>W</th>\n",
       "      <td>0.252</td>\n",
       "      <td>1.000</td>\n",
       "      <td>0.554</td>\n",
       "    </tr>\n",
       "    <tr>\n",
       "      <th>Y</th>\n",
       "      <td>0.734</td>\n",
       "      <td>0.554</td>\n",
       "      <td>1.000</td>\n",
       "    </tr>\n",
       "  </tbody>\n",
       "</table>\n",
       "</div>"
      ],
      "text/plain": [
       "       X      W      Y\n",
       "X  1.000  0.252  0.734\n",
       "W  0.252  1.000  0.554\n",
       "Y  0.734  0.554  1.000"
      ]
     },
     "execution_count": 12,
     "metadata": {},
     "output_type": "execute_result"
    }
   ],
   "source": [
    "# Matriz de correlações de Spearman usando Pandas\n",
    "kline.corr(method = \"spearman\").round(decimals = 3)"
   ]
  },
  {
   "cell_type": "markdown",
   "metadata": {},
   "source": [
    "E agora, a correlação de Kendall. Mais uma vez, com o `Pandas`."
   ]
  },
  {
   "cell_type": "code",
   "execution_count": 13,
   "metadata": {},
   "outputs": [
    {
     "data": {
      "text/html": [
       "<div>\n",
       "<style scoped>\n",
       "    .dataframe tbody tr th:only-of-type {\n",
       "        vertical-align: middle;\n",
       "    }\n",
       "\n",
       "    .dataframe tbody tr th {\n",
       "        vertical-align: top;\n",
       "    }\n",
       "\n",
       "    .dataframe thead th {\n",
       "        text-align: right;\n",
       "    }\n",
       "</style>\n",
       "<table border=\"1\" class=\"dataframe\">\n",
       "  <thead>\n",
       "    <tr style=\"text-align: right;\">\n",
       "      <th></th>\n",
       "      <th>X</th>\n",
       "      <th>W</th>\n",
       "      <th>Y</th>\n",
       "    </tr>\n",
       "  </thead>\n",
       "  <tbody>\n",
       "    <tr>\n",
       "      <th>X</th>\n",
       "      <td>1.00</td>\n",
       "      <td>0.200</td>\n",
       "      <td>0.570</td>\n",
       "    </tr>\n",
       "    <tr>\n",
       "      <th>W</th>\n",
       "      <td>0.20</td>\n",
       "      <td>1.000</td>\n",
       "      <td>0.437</td>\n",
       "    </tr>\n",
       "    <tr>\n",
       "      <th>Y</th>\n",
       "      <td>0.57</td>\n",
       "      <td>0.437</td>\n",
       "      <td>1.000</td>\n",
       "    </tr>\n",
       "  </tbody>\n",
       "</table>\n",
       "</div>"
      ],
      "text/plain": [
       "      X      W      Y\n",
       "X  1.00  0.200  0.570\n",
       "W  0.20  1.000  0.437\n",
       "Y  0.57  0.437  1.000"
      ]
     },
     "execution_count": 13,
     "metadata": {},
     "output_type": "execute_result"
    }
   ],
   "source": [
    "kline.corr(method = \"kendall\").round(decimals = 3)"
   ]
  },
  {
   "cell_type": "markdown",
   "metadata": {},
   "source": [
    "*Marcos, mas os valores acima não retornam o valor* p. *Como eu faço?*\n",
    "Para obter o valor *p*, precisaremos usar a função `pearsonr`, do `scipy.stats`."
   ]
  },
  {
   "cell_type": "code",
   "execution_count": 14,
   "metadata": {},
   "outputs": [
    {
     "name": "stdout",
     "output_type": "stream",
     "text": [
      "r(X, Y) = 0.686, p = 0.001\n",
      "r(X, W) = 0.272, p = 0.246\n",
      "r(Y, W) = 0.499, p = 0.025\n"
     ]
    }
   ],
   "source": [
    "# https://docs.scipy.org/doc/scipy/reference/generated/scipy.stats.pearsonr.html\n",
    "rxy, pxy = pearsonr(kline[\"X\"], kline[\"Y\"])\n",
    "rxw, pxw = pearsonr(kline[\"X\"], kline[\"W\"])\n",
    "ryw, pyw = pearsonr(kline[\"Y\"], kline[\"W\"])\n",
    "\n",
    "# imprime rs e ps\n",
    "print(f\"r(X, Y) = {rxy:.3f}, p = {pxy:.3f}\")\n",
    "print(f\"r(X, W) = {rxw:.3f}, p = {pxw:.3f}\")\n",
    "print(f\"r(Y, W) = {ryw:.3f}, p = {pyw:.3f}\")"
   ]
  },
  {
   "cell_type": "markdown",
   "metadata": {},
   "source": [
    "Se você quiser ser ainda mais moderninho e reportar intervalos de confiança, ao invés do valor *p*, também é possivel. Veja:"
   ]
  },
  {
   "cell_type": "code",
   "execution_count": 15,
   "metadata": {},
   "outputs": [
    {
     "name": "stdout",
     "output_type": "stream",
     "text": [
      "r = 0.686, IC 95% [0.349, 0.866].\n"
     ]
    }
   ],
   "source": [
    "# criando uma função, parcialmente inspirada em:\n",
    "# https://zhiyzuo.github.io/Pearson-Correlation-CI-in-Python/\n",
    "\n",
    "def pearson_cis(x, y, ICs: int = 95):\n",
    "    '''\n",
    "    Calcula r de Perason e seus ICs i%; default é 95%.\n",
    "    '''\n",
    "    \n",
    "    if not (1 <= ICs <= 99):\n",
    "        raise Exception(\"A confiança do IC deve ser um valor entre 1 e 99!\")\n",
    "    \n",
    "    # função chama pearsonr\n",
    "    r, p = pearsonr(x, y)\n",
    "    \n",
    "    # intervalos de confiança são calculados após transformação r para z de Fisher\n",
    "    r_z = np.arctanh(r)\n",
    "\n",
    "    # erro padrão (se) do r\n",
    "    ep = 1 / np.sqrt(x.size - 3)\n",
    "\n",
    "    # alfa; se queremos IC 95%, então alfa = 0,05\n",
    "    alfa = 1 - (ICs / 100)\n",
    "\n",
    "    # z crítico da distribuição normal padrão para cálculo dos ICs\n",
    "    z = norm.ppf(1 - alfa / 2)\n",
    "    \n",
    "    # limites inferior (li) e superior (ls) do z transformado de Fisher\n",
    "    r_z_li, r_z_ls = r_z - z * ep, r_z + z * ep\n",
    "    \n",
    "    # transformação z para r de Fisher; retorna os ICs do r para a métrica original do r\n",
    "    ic_li, ic_ls = np.tanh((r_z_li, r_z_ls))\n",
    "    \n",
    "    return r, p, ic_li, ic_ls\n",
    "\n",
    "# testando a função; _ indica que o valor p não será usado\n",
    "r, _, li, ls = pearson_cis(kline[\"X\"], kline[\"Y\"])\n",
    "\n",
    "# e imprimindo o resultado\n",
    "print(f\"r = {r:.3f}, IC 95% [{li:.3f}, {ls:.3f}].\")"
   ]
  },
  {
   "cell_type": "markdown",
   "metadata": {},
   "source": [
    "$\\rho$ de Spearman com valor *p*"
   ]
  },
  {
   "cell_type": "code",
   "execution_count": 16,
   "metadata": {},
   "outputs": [
    {
     "name": "stdout",
     "output_type": "stream",
     "text": [
      "r(X, Y) = 0.734, p = 0.0002\n",
      "r(X, W) = 0.252, p = 0.283\n",
      "r(Y, W) = 0.554, p = 0.011\n"
     ]
    }
   ],
   "source": [
    "# https://docs.scipy.org/doc/scipy/reference/generated/scipy.stats.spearmanr.html\n",
    "rhoxy, pxy = spearmanr(kline[\"X\"], kline[\"Y\"])\n",
    "rhoxw, pxw = spearmanr(kline[\"X\"], kline[\"W\"])\n",
    "rhoyw, pyw = spearmanr(kline[\"Y\"], kline[\"W\"])\n",
    "\n",
    "# imprime rs e ps\n",
    "print(f\"r(X, Y) = {rhoxy:.3f}, p = {pxy:.4f}\")\n",
    "print(f\"r(X, W) = {rhoxw:.3f}, p = {pxw:.3f}\")\n",
    "print(f\"r(Y, W) = {rhoyw:.3f}, p = {pyw:.3f}\")\n"
   ]
  },
  {
   "cell_type": "markdown",
   "metadata": {},
   "source": [
    "$\\tau$ de Kendall com valor *p*"
   ]
  },
  {
   "cell_type": "code",
   "execution_count": 17,
   "metadata": {},
   "outputs": [
    {
     "name": "stdout",
     "output_type": "stream",
     "text": [
      "r(X, Y) = 0.570, p = 0.0008\n",
      "r(X, W) = 0.200, p = 0.246\n",
      "r(Y, W) = 0.437, p = 0.009\n"
     ]
    }
   ],
   "source": [
    "# https://docs.scipy.org/doc/scipy/reference/generated/scipy.stats.kendalltau.html\n",
    "tauxy, pxy = kendalltau(kline[\"X\"], kline[\"Y\"])\n",
    "tauxw, pxw = kendalltau(kline[\"X\"], kline[\"W\"])\n",
    "tauyw, pyw = kendalltau(kline[\"Y\"], kline[\"W\"])\n",
    "\n",
    "# imprime rs e ps\n",
    "print(f\"r(X, Y) = {tauxy:.3f}, p = {pxy:.4f}\")\n",
    "print(f\"r(X, W) = {tauxw:.3f}, p = {pxw:.3f}\")\n",
    "print(f\"r(Y, W) = {tauyw:.3f}, p = {pyw:.3f}\")"
   ]
  },
  {
   "cell_type": "markdown",
   "metadata": {},
   "source": [
    "Correlação parcial entre X e Y, removendo os efeitos de W, calculada na unha:"
   ]
  },
  {
   "cell_type": "code",
   "execution_count": 18,
   "metadata": {},
   "outputs": [
    {
     "name": "stdout",
     "output_type": "stream",
     "text": [
      "r parcial = 0.660.\n"
     ]
    }
   ],
   "source": [
    "def partial_r(x, y, z):\n",
    "    '''\n",
    "    Calcula a correlação entre x e y, após remover os efeitos de z.\n",
    "    Função se aplica a apenas uma variável parcial. Retorna o r parcial.\n",
    "    '''\n",
    "    \n",
    "    # calculando rs de Pearson\n",
    "    rxy, _ = pearsonr(x, y)\n",
    "    rxz, _ = pearsonr(x, z)\n",
    "    ryz, _ = pearsonr(y, z)\n",
    "    \n",
    "    # calculando r parcial\n",
    "    partial_rxy = (rxy - (rxz * ryz)) / (((1 - rxz ** 2) * (1 - ryz ** 2)) ** 0.5)\n",
    "    \n",
    "    return partial_rxy\n",
    "\n",
    "# testando a função\n",
    "r = partial_r(kline[\"X\"], kline[\"Y\"], kline[\"W\"])\n",
    "print(f\"r parcial = {r:.3f}.\")    "
   ]
  },
  {
   "cell_type": "markdown",
   "metadata": {},
   "source": [
    "e, para finalizar, que tal alguns gráficos com o `matplotlib`?"
   ]
  },
  {
   "cell_type": "code",
   "execution_count": 33,
   "metadata": {},
   "outputs": [
    {
     "data": {
      "image/png": "[encoded data removed]",
      "text/plain": [
       "<Figure size 432x648 with 3 Axes>"
      ]
     },
     "metadata": {
      "needs_background": "light"
     },
     "output_type": "display_data"
    }
   ],
   "source": [
    "# linhas de melhores ajustes\n",
    "slope_xy, intercept_xy = np.polyfit(kline[\"X\"], kline[\"Y\"], 1)\n",
    "slope_xw, intercept_xw = np.polyfit(kline[\"X\"], kline[\"W\"], 1)\n",
    "slope_yw, intercept_yw = np.polyfit(kline[\"Y\"], kline[\"W\"], 1)\n",
    "\n",
    "# gráficos\n",
    "fig, ax = plt.subplots(figsize = (6, 9), nrows = 3, ncols = 1, sharex = False, sharey = False)\n",
    "\n",
    "fig.tight_layout(pad = 3.0)\n",
    "\n",
    "ax[0].scatter(kline[\"X\"], kline[\"Y\"])\n",
    "ax[0].set_xlabel(\"X\")\n",
    "ax[0].set_ylabel(\"Y\")\n",
    "ax[0].plot(kline[\"X\"], slope_xy * kline[\"X\"] + intercept_xy)\n",
    "\n",
    "ax[1].scatter(kline[\"X\"], kline[\"W\"])\n",
    "ax[1].set_xlabel(\"X\")\n",
    "ax[1].set_ylabel(\"W\")\n",
    "ax[1].plot(kline[\"X\"], slope_xw * kline[\"X\"] + intercept_xw)\n",
    "\n",
    "ax[2].scatter(kline[\"Y\"], kline[\"W\"])\n",
    "ax[2].set_xlabel(\"Y\")\n",
    "ax[2].set_ylabel(\"W\")\n",
    "ax[2].plot(kline[\"Y\"], slope_yw * kline[\"Y\"] + intercept_yw)\n",
    "\n",
    "plt.savefig('005 - Correlações.jpg', dpi = 600, bbox_inches = \"tight\")\n",
    "\n",
    "plt.show()"
   ]
  },
  {
   "cell_type": "code",
   "execution_count": null,
   "metadata": {},
   "outputs": [],
   "source": []
  }
 ],
 "metadata": {
  "kernelspec": {
   "display_name": "Python 3",
   "language": "python",
   "name": "python3"
  },
  "language_info": {
   "codemirror_mode": {
    "name": "ipython",
    "version": 3
   },
   "file_extension": ".py",
   "mimetype": "text/x-python",
   "name": "python",
   "nbconvert_exporter": "python",
   "pygments_lexer": "ipython3",
   "version": "3.8.5"
  }
 },
 "nbformat": 4,
 "nbformat_minor": 4
}
